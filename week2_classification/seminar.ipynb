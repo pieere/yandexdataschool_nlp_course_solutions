{
 "cells": [
  {
   "cell_type": "markdown",
   "metadata": {},
   "source": [
    "# Large scale text analysis with deep learning (3 points)\n",
    "\n",
    "Today we're gonna apply the newly learned tools for the task of predicting job salary.\n",
    "\n",
    "<img src=\"https://kaggle2.blob.core.windows.net/competitions/kaggle/3342/media/salary%20prediction%20engine%20v2.png\" width=400px>\n",
    "\n",
    "_Special thanks to [Oleg Vasilev](https://github.com/Omrigan/) for the core assignment idea._"
   ]
  },
  {
   "cell_type": "code",
   "execution_count": 1,
   "metadata": {},
   "outputs": [],
   "source": [
    "import numpy as np\n",
    "import pandas as pd\n",
    "import matplotlib.pyplot as plt\n",
    "%matplotlib inline"
   ]
  },
  {
   "cell_type": "markdown",
   "metadata": {},
   "source": [
    "### About the challenge\n",
    "For starters, let's download and unpack the data from [here](https://www.dropbox.com/s/5msc5ix7ndyba10/Train_rev1.csv.tar.gz?dl=0). \n",
    "\n",
    "You can also get it from [yadisk url](https://yadi.sk/d/vVEOWPFY3NruT7) the competition [page](https://www.kaggle.com/c/job-salary-prediction/data) (pick `Train_rev1.*`)."
   ]
  },
  {
   "cell_type": "code",
   "execution_count": 2,
   "metadata": {},
   "outputs": [],
   "source": [
    "# !curl -L https://www.dropbox.com/s/5msc5ix7ndyba10/Train_rev1.csv.tar.gz?dl=1 -o Train_rev1.csv.tar.gz\n",
    "# !tar -xvzf ./Train_rev1.csv.tar.gz\n",
    "data = pd.read_csv(\"./Train_rev1.csv\", index_col=None)\n",
    "# data.shape"
   ]
  },
  {
   "cell_type": "markdown",
   "metadata": {},
   "source": [
    "One problem with salary prediction is that it's oddly distributed: there are many people who are paid standard salaries and a few that get tons o money. The distribution is fat-tailed on the right side, which is inconvenient for MSE minimization.\n",
    "\n",
    "There are several techniques to combat this: using a different loss function, predicting log-target instead of raw target or even replacing targets with their percentiles among all salaries in the training set. We gonna use logarithm for now.\n",
    "\n",
    "_You can read more [in the official description](https://www.kaggle.com/c/job-salary-prediction#description)._"
   ]
  },
  {
   "cell_type": "code",
   "execution_count": 3,
   "metadata": {},
   "outputs": [
    {
     "data": {
      "image/png": "[encoded data removed]",
      "text/plain": [
       "<Figure size 576x288 with 2 Axes>"
      ]
     },
     "metadata": {
      "needs_background": "light"
     },
     "output_type": "display_data"
    }
   ],
   "source": [
    "data['Log1pSalary'] = np.log1p(data['SalaryNormalized']).astype('float32')\n",
    "\n",
    "plt.figure(figsize=[8, 4])\n",
    "plt.subplot(1, 2, 1)\n",
    "plt.hist(data[\"SalaryNormalized\"], bins=20);\n",
    "\n",
    "plt.subplot(1, 2, 2)\n",
    "plt.hist(data['Log1pSalary'], bins=20);"
   ]
  },
  {
   "cell_type": "markdown",
   "metadata": {},
   "source": [
    "Our task is to predict one number, __Log1pSalary__.\n",
    "\n",
    "To do so, our model can access a number of features:\n",
    "* Free text: __`Title`__ and  __`FullDescription`__\n",
    "* Categorical: __`Category`__, __`Company`__, __`LocationNormalized`__, __`ContractType`__, and __`ContractTime`__."
   ]
  },
  {
   "cell_type": "code",
   "execution_count": 4,
   "metadata": {},
   "outputs": [
    {
     "data": {
      "text/html": [
       "<div>\n",
       "<style scoped>\n",
       "    .dataframe tbody tr th:only-of-type {\n",
       "        vertical-align: middle;\n",
       "    }\n",
       "\n",
       "    .dataframe tbody tr th {\n",
       "        vertical-align: top;\n",
       "    }\n",
       "\n",
       "    .dataframe thead th {\n",
       "        text-align: right;\n",
       "    }\n",
       "</style>\n",
       "<table border=\"1\" class=\"dataframe\">\n",
       "  <thead>\n",
       "    <tr style=\"text-align: right;\">\n",
       "      <th></th>\n",
       "      <th>Id</th>\n",
       "      <th>Title</th>\n",
       "      <th>FullDescription</th>\n",
       "      <th>LocationRaw</th>\n",
       "      <th>LocationNormalized</th>\n",
       "      <th>ContractType</th>\n",
       "      <th>ContractTime</th>\n",
       "      <th>Company</th>\n",
       "      <th>Category</th>\n",
       "      <th>SalaryRaw</th>\n",
       "      <th>SalaryNormalized</th>\n",
       "      <th>SourceName</th>\n",
       "      <th>Log1pSalary</th>\n",
       "    </tr>\n",
       "  </thead>\n",
       "  <tbody>\n",
       "    <tr>\n",
       "      <th>229352</th>\n",
       "      <td>72448992</td>\n",
       "      <td>Care Worker  Reading , Caversham and Surroundi...</td>\n",
       "      <td>Carer Required 'I love being able to help othe...</td>\n",
       "      <td>Reading Berkshire South East</td>\n",
       "      <td>Reading</td>\n",
       "      <td>NaN</td>\n",
       "      <td>permanent</td>\n",
       "      <td>Saga Homecare</td>\n",
       "      <td>Customer Services Jobs</td>\n",
       "      <td>From 7 to 7 per hour</td>\n",
       "      <td>13440</td>\n",
       "      <td>totaljobs.com</td>\n",
       "      <td>9.506065</td>\n",
       "    </tr>\n",
       "    <tr>\n",
       "      <th>202073</th>\n",
       "      <td>71883676</td>\n",
       "      <td>Investment Reporter</td>\n",
       "      <td>Investment Reporter The Client My client is an...</td>\n",
       "      <td>Greater London</td>\n",
       "      <td>London</td>\n",
       "      <td>full_time</td>\n",
       "      <td>permanent</td>\n",
       "      <td>PFJ</td>\n",
       "      <td>Teaching Jobs</td>\n",
       "      <td>23000.00 - 27000.00 per annum</td>\n",
       "      <td>25000</td>\n",
       "      <td>jobs.guardian.co.uk</td>\n",
       "      <td>10.126671</td>\n",
       "    </tr>\n",
       "    <tr>\n",
       "      <th>182131</th>\n",
       "      <td>71601839</td>\n",
       "      <td>Temporary Early Years Officer  Crail Primary S...</td>\n",
       "      <td>Duration: Temporary until June 2013 (Additiona...</td>\n",
       "      <td>Anstruther</td>\n",
       "      <td>Anstruther</td>\n",
       "      <td>part_time</td>\n",
       "      <td>NaN</td>\n",
       "      <td>Fife Council</td>\n",
       "      <td>Teaching Jobs</td>\n",
       "      <td>20,142 - 22,995 (Pro Rata)</td>\n",
       "      <td>21568</td>\n",
       "      <td>Jobcentre Plus</td>\n",
       "      <td>9.979012</td>\n",
       "    </tr>\n",
       "  </tbody>\n",
       "</table>\n",
       "</div>"
      ],
      "text/plain": [
       "              Id                                              Title  \\\n",
       "229352  72448992  Care Worker  Reading , Caversham and Surroundi...   \n",
       "202073  71883676                                Investment Reporter   \n",
       "182131  71601839  Temporary Early Years Officer  Crail Primary S...   \n",
       "\n",
       "                                          FullDescription  \\\n",
       "229352  Carer Required 'I love being able to help othe...   \n",
       "202073  Investment Reporter The Client My client is an...   \n",
       "182131  Duration: Temporary until June 2013 (Additiona...   \n",
       "\n",
       "                         LocationRaw LocationNormalized ContractType  \\\n",
       "229352  Reading Berkshire South East            Reading          NaN   \n",
       "202073                Greater London             London    full_time   \n",
       "182131                    Anstruther         Anstruther    part_time   \n",
       "\n",
       "       ContractTime        Company                Category  \\\n",
       "229352    permanent  Saga Homecare  Customer Services Jobs   \n",
       "202073    permanent            PFJ           Teaching Jobs   \n",
       "182131          NaN   Fife Council           Teaching Jobs   \n",
       "\n",
       "                            SalaryRaw  SalaryNormalized           SourceName  \\\n",
       "229352           From 7 to 7 per hour             13440        totaljobs.com   \n",
       "202073  23000.00 - 27000.00 per annum             25000  jobs.guardian.co.uk   \n",
       "182131     20,142 - 22,995 (Pro Rata)             21568       Jobcentre Plus   \n",
       "\n",
       "        Log1pSalary  \n",
       "229352     9.506065  \n",
       "202073    10.126671  \n",
       "182131     9.979012  "
      ]
     },
     "execution_count": 4,
     "metadata": {},
     "output_type": "execute_result"
    }
   ],
   "source": [
    "text_columns = [\"Title\", \"FullDescription\"]\n",
    "categorical_columns = [\"Category\", \"Company\", \"LocationNormalized\", \"ContractType\", \"ContractTime\"]\n",
    "target_column = \"Log1pSalary\"\n",
    "\n",
    "data[categorical_columns] = data[categorical_columns].fillna('NaN') # cast missing values to string \"NaN\"\n",
    "\n",
    "data.sample(3)"
   ]
  },
  {
   "cell_type": "markdown",
   "metadata": {},
   "source": [
    "### Preprocessing text data\n",
    "\n",
    "Just like last week, applying NLP to a problem begins from tokenization: splitting raw text into sequences of tokens (words, punctuation, etc).\n",
    "\n",
    "__Your task__ is to lowercase and tokenize all texts under `Title` and `FullDescription` columns. Store the tokenized data as a __space-separated__ string of tokens for performance reasons.\n",
    "\n",
    "It's okay to use nltk tokenizers. Assertions were designed for WordPunctTokenizer, slight deviations are okay."
   ]
  },
  {
   "cell_type": "code",
   "execution_count": 5,
   "metadata": {},
   "outputs": [
    {
     "name": "stdout",
     "output_type": "stream",
     "text": [
      "Raw text:\n",
      "2         Mathematical Modeller / Simulation Analyst / O...\n",
      "100002    A successful and high achieving specialist sch...\n",
      "200002    Web Designer  HTML, CSS, JavaScript, Photoshop...\n",
      "Name: FullDescription, dtype: object\n"
     ]
    }
   ],
   "source": [
    "print(\"Raw text:\")\n",
    "print(data[\"FullDescription\"][2::100000])"
   ]
  },
  {
   "cell_type": "code",
   "execution_count": 6,
   "metadata": {
    "scrolled": true
   },
   "outputs": [],
   "source": [
    "import nltk\n",
    "tokenizer = nltk.tokenize.WordPunctTokenizer()\n",
    "\n",
    "# see task above\n",
    "data[\"FullDescription\"] = data[\"FullDescription\"].apply(lambda x: ' '.join(tokenizer.tokenize(x)).lower())\n",
    "data[\"Title\"] = data[\"Title\"].astype(str)\n",
    "data[\"Title\"] = data[\"Title\"].apply(lambda x: ' '.join(tokenizer.tokenize(x)).lower())"
   ]
  },
  {
   "cell_type": "markdown",
   "metadata": {},
   "source": [
    "Now we can assume that our text is a space-separated list of tokens:"
   ]
  },
  {
   "cell_type": "code",
   "execution_count": 7,
   "metadata": {},
   "outputs": [
    {
     "name": "stdout",
     "output_type": "stream",
     "text": [
      "Tokenized:\n",
      "2         mathematical modeller / simulation analyst / o...\n",
      "100002    a successful and high achieving specialist sch...\n",
      "200002    web designer html , css , javascript , photosh...\n",
      "Name: FullDescription, dtype: object\n"
     ]
    }
   ],
   "source": [
    "print(\"Tokenized:\")\n",
    "print(data[\"FullDescription\"][2::100000])\n",
    "assert data[\"FullDescription\"][2][:50] == 'mathematical modeller / simulation analyst / opera'\n",
    "assert data[\"Title\"][54321] == 'international digital account manager ( german )'"
   ]
  },
  {
   "cell_type": "markdown",
   "metadata": {},
   "source": [
    "Not all words are equally useful. Some of them are typos or rare words that are only present a few times. \n",
    "\n",
    "Let's count how many times is each word present in the data so that we can build a \"white list\" of known words."
   ]
  },
  {
   "cell_type": "code",
   "execution_count": 8,
   "metadata": {},
   "outputs": [],
   "source": [
    "data['ti_de'] = data['Title'] + ' ' + data['FullDescription']\n",
    "ti_de = data['ti_de'].values\n",
    "del data['ti_de']"
   ]
  },
  {
   "cell_type": "code",
   "execution_count": 9,
   "metadata": {},
   "outputs": [],
   "source": [
    "# Count how many times does each token occur in both \"Title\" and \"FullDescription\" in total\n",
    "# build a dictionary { token -> it's count }\n",
    "\n",
    "from collections import Counter\n",
    "\n",
    "token_counts = Counter()\n",
    "\n",
    "for i in ti_de:\n",
    "    for j in i.split(' '):\n",
    "        token_counts[j] = token_counts[j] + 1\n",
    "\n",
    "# hint: you may or may not want to use collections.Counter"
   ]
  },
  {
   "cell_type": "code",
   "execution_count": 10,
   "metadata": {},
   "outputs": [
    {
     "name": "stdout",
     "output_type": "stream",
     "text": [
      "Total unique tokens : 202704\n",
      "('and', 2657388)\n",
      "('.', 2523216)\n",
      "(',', 2318606)\n",
      "('the', 2080994)\n",
      "('to', 2019884)\n",
      "...\n",
      "('stephanietraveltraderecruitmnt', 1)\n",
      "('ruabon', 1)\n",
      "('lowehays', 1)\n",
      "Correct!\n"
     ]
    }
   ],
   "source": [
    "print(\"Total unique tokens :\", len(token_counts))\n",
    "print('\\n'.join(map(str, token_counts.most_common(n=5))))\n",
    "print('...')\n",
    "print('\\n'.join(map(str, token_counts.most_common()[-3:])))\n",
    "\n",
    "assert token_counts.most_common(1)[0][1] in  range(2600000, 2700000)\n",
    "assert len(token_counts) in range(200000, 210000)\n",
    "print('Correct!')"
   ]
  },
  {
   "cell_type": "code",
   "execution_count": 11,
   "metadata": {},
   "outputs": [
    {
     "data": {
      "image/png": "[encoded data removed]",
      "text/plain": [
       "<Figure size 432x288 with 1 Axes>"
      ]
     },
     "metadata": {
      "needs_background": "light"
     },
     "output_type": "display_data"
    }
   ],
   "source": [
    "# Let's see how many words are there for each count\n",
    "plt.hist(list(token_counts.values()), range=[0, 10**4], bins=50, log=True)\n",
    "plt.xlabel(\"Word counts\");"
   ]
  },
  {
   "cell_type": "markdown",
   "metadata": {},
   "source": [
    "Now filter tokens a list of all tokens that occur at least 10 times."
   ]
  },
  {
   "cell_type": "code",
   "execution_count": 12,
   "metadata": {},
   "outputs": [],
   "source": [
    "min_count = 10\n",
    "\n",
    "# tokens from token_counts keys that had at least min_count occurrences throughout the dataset\n",
    "tokens = [k for k, v in token_counts.items() if v >= min_count]"
   ]
  },
  {
   "cell_type": "code",
   "execution_count": 13,
   "metadata": {},
   "outputs": [
    {
     "name": "stdout",
     "output_type": "stream",
     "text": [
      "Vocabulary size: 34158\n",
      "Correct!\n"
     ]
    }
   ],
   "source": [
    "# Add a special tokens for unknown and empty words\n",
    "UNK, PAD = \"UNK\", \"PAD\"\n",
    "tokens = [UNK, PAD] + sorted(tokens)\n",
    "print(\"Vocabulary size:\", len(tokens))\n",
    "\n",
    "assert type(tokens) == list\n",
    "assert len(tokens) in range(32000, 35000)\n",
    "assert 'me' in tokens\n",
    "assert UNK in tokens\n",
    "print(\"Correct!\")"
   ]
  },
  {
   "cell_type": "markdown",
   "metadata": {},
   "source": [
    "Build an inverse token index: a dictionary from token(string) to it's index in `tokens` (int)"
   ]
  },
  {
   "cell_type": "code",
   "execution_count": 14,
   "metadata": {},
   "outputs": [],
   "source": [
    "token_to_id = {k:i for i, k in enumerate(tokens, start=0)}"
   ]
  },
  {
   "cell_type": "code",
   "execution_count": 15,
   "metadata": {},
   "outputs": [
    {
     "name": "stdout",
     "output_type": "stream",
     "text": [
      "Correct!\n"
     ]
    }
   ],
   "source": [
    "assert isinstance(token_to_id, dict)\n",
    "assert len(token_to_id) == len(tokens)\n",
    "for tok in tokens:\n",
    "    assert tokens[token_to_id[tok]] == tok\n",
    "\n",
    "print(\"Correct!\")"
   ]
  },
  {
   "cell_type": "markdown",
   "metadata": {},
   "source": [
    "And finally, let's use the vocabulary you've built to map text lines into neural network-digestible matrices."
   ]
  },
  {
   "cell_type": "code",
   "execution_count": 16,
   "metadata": {},
   "outputs": [],
   "source": [
    "UNK_IX, PAD_IX = map(token_to_id.get, [UNK, PAD])\n",
    "\n",
    "def as_matrix(sequences, max_len=None):\n",
    "    \"\"\" Convert a list of tokens into a matrix with padding \"\"\"\n",
    "    if isinstance(sequences[0], str):\n",
    "        sequences = list(map(str.split, sequences))\n",
    "        \n",
    "    max_len = min(max(map(len, sequences)), max_len or float('inf'))\n",
    "    \n",
    "    matrix = np.full((len(sequences), max_len), np.int32(PAD_IX))\n",
    "    for i,seq in enumerate(sequences):\n",
    "        row_ix = [token_to_id.get(word, UNK_IX) for word in seq[:max_len]]\n",
    "        matrix[i, :len(row_ix)] = row_ix\n",
    "    \n",
    "    return matrix"
   ]
  },
  {
   "cell_type": "code",
   "execution_count": 17,
   "metadata": {},
   "outputs": [
    {
     "name": "stdout",
     "output_type": "stream",
     "text": [
      "Lines:\n",
      "engineering systems analyst\n",
      "hr assistant\n",
      "senior ec & i engineer\n",
      "\n",
      "Matrix:\n",
      "[[10807 30161  2166     1     1]\n",
      " [15020  2844     1     1     1]\n",
      " [27645 10201    16 15215 10804]]\n"
     ]
    }
   ],
   "source": [
    "print(\"Lines:\")\n",
    "print('\\n'.join(data[\"Title\"][::100000].values), end='\\n\\n')\n",
    "print(\"Matrix:\")\n",
    "print(as_matrix(data[\"Title\"][::100000]))"
   ]
  },
  {
   "cell_type": "markdown",
   "metadata": {},
   "source": [
    "Now let's  encode the categirical data we have.\n",
    "\n",
    "As usual, we shall use one-hot encoding for simplicity. Kudos if you implement more advanced encodings: tf-idf, pseudo-time-series, etc."
   ]
  },
  {
   "cell_type": "code",
   "execution_count": 20,
   "metadata": {},
   "outputs": [
    {
     "data": {
      "text/plain": [
       "DictVectorizer(dtype=<class 'numpy.float32'>, separator='=', sort=True,\n",
       "        sparse=False)"
      ]
     },
     "execution_count": 20,
     "metadata": {},
     "output_type": "execute_result"
    }
   ],
   "source": [
    "from sklearn.feature_extraction import DictVectorizer\n",
    "\n",
    "# we only consider top-1k most frequent companies to minimize memory usage\n",
    "top_companies, top_counts = zip(*Counter(data['Company']).most_common(1000))\n",
    "recognized_companies = set(top_companies)\n",
    "data[\"Company\"] = data[\"Company\"].apply(lambda comp: comp if comp in recognized_companies else \"Other\")\n",
    "\n",
    "categorical_vectorizer = DictVectorizer(dtype=np.float32, sparse=False)\n",
    "categorical_vectorizer.fit(data[categorical_columns].apply(dict, axis=1))"
   ]
  },
  {
   "cell_type": "markdown",
   "metadata": {},
   "source": [
    "### The deep learning part\n",
    "\n",
    "Once we've learned to tokenize the data, let's design a machine learning experiment.\n",
    "\n",
    "As before, we won't focus too much on validation, opting for a simple train-test split.\n",
    "\n",
    "__To be completely rigorous,__ we've comitted a small crime here: we used the whole data for tokenization and vocabulary building. A more strict way would be to do that part on training set only. You may want to do that and measure the magnitude of changes."
   ]
  },
  {
   "cell_type": "code",
   "execution_count": 26,
   "metadata": {},
   "outputs": [
    {
     "name": "stdout",
     "output_type": "stream",
     "text": [
      "Train size =  195814\n",
      "Validation size =  48954\n"
     ]
    }
   ],
   "source": [
    "from sklearn.model_selection import train_test_split\n",
    "\n",
    "data_train, data_val = train_test_split(data, test_size=0.2, random_state=42)\n",
    "data_train.index = range(len(data_train))\n",
    "data_val.index = range(len(data_val))\n",
    "\n",
    "print(\"Train size = \", len(data_train))\n",
    "print(\"Validation size = \", len(data_val))"
   ]
  },
  {
   "cell_type": "code",
   "execution_count": 47,
   "metadata": {},
   "outputs": [],
   "source": [
    "def make_batch(data, max_len=None, word_dropout=0):\n",
    "    \"\"\"\n",
    "    Creates a keras-friendly dict from the batch data.\n",
    "    :param word_dropout: replaces token index with UNK_IX with this probability\n",
    "    :returns: a dict with {'title' : int64[batch, title_max_len]\n",
    "    \"\"\"\n",
    "    batch = {}\n",
    "    batch[\"Title\"] = as_matrix(data[\"Title\"].values, max_len)\n",
    "    batch[\"FullDescription\"] = as_matrix(data[\"FullDescription\"].values, max_len)\n",
    "    batch['Categorical'] = categorical_vectorizer.transform(data[categorical_columns].apply(dict, axis=1))\n",
    "    \n",
    "    if word_dropout != 0:\n",
    "        batch[\"FullDescription\"] = apply_word_dropout(batch[\"FullDescription\"], 1. - word_dropout)\n",
    "    \n",
    "    if target_column in data.columns:\n",
    "        batch[target_column] = data[target_column].values\n",
    "    \n",
    "    return batch\n",
    "\n",
    "def apply_word_dropout(matrix, keep_prop, replace_with=UNK_IX, pad_ix=PAD_IX,):\n",
    "    dropout_mask = np.random.choice(2, np.shape(matrix), p=[keep_prop, 1 - keep_prop])\n",
    "#     print(dropout_mask)\n",
    "    dropout_mask &= matrix != pad_ix\n",
    "#     print(matrix)\n",
    "#     print(dropout_mask)\n",
    "    return np.choose(dropout_mask, [matrix, np.full_like(matrix, replace_with)])"
   ]
  },
  {
   "cell_type": "code",
   "execution_count": 49,
   "metadata": {},
   "outputs": [
    {
     "data": {
      "text/plain": [
       "{'Title': array([[27645, 29893, 33674,     1,     1,     1,     1],\n",
       "        [29239,   197, 19175, 20042, 15554, 23162,  4051],\n",
       "        [10609, 30412, 17746,    33,  8705, 29157,    65]]),\n",
       " 'FullDescription': array([[27645, 29893, 33674, 32939,   982, 27645, 29893, 33674, 16451,\n",
       "         32939],\n",
       "        [29239,   197, 19175,     0, 15554, 23162,  4051,     0,   907,\n",
       "            82],\n",
       "        [30746, 21956, 20601,  6409, 16451,     0, 27493,   982, 30412,\n",
       "         17746]]),\n",
       " 'Categorical': array([[0., 0., 0., ..., 0., 0., 0.],\n",
       "        [0., 0., 0., ..., 0., 0., 0.],\n",
       "        [0., 0., 0., ..., 0., 0., 0.]], dtype=float32),\n",
       " 'Log1pSalary': array([ 9.71154 , 10.463132, 10.71444 ], dtype=float32)}"
      ]
     },
     "execution_count": 49,
     "metadata": {},
     "output_type": "execute_result"
    }
   ],
   "source": [
    "make_batch(data_train[:3], max_len=10, word_dropout=0.1)"
   ]
  },
  {
   "cell_type": "markdown",
   "metadata": {},
   "source": [
    "#### Architecture\n",
    "\n",
    "Our basic model consists of three branches:\n",
    "* Title encoder\n",
    "* Description encoder\n",
    "* Categorical features encoder\n",
    "\n",
    "We will then feed all 3 branches into one common network that predicts salary.\n",
    "\n",
    "<img src=\"https://github.com/yandexdataschool/nlp_course/raw/master/resources/w2_conv_arch.png\" width=600px>"
   ]
  },
  {
   "cell_type": "markdown",
   "metadata": {},
   "source": [
    "This clearly doesn't fit into keras' __Sequential__ interface. To build such a network, one will have to use __[Keras Functional API](https://keras.io/models/model/)__."
   ]
  },
  {
   "cell_type": "code",
   "execution_count": 54,
   "metadata": {},
   "outputs": [
    {
     "name": "stderr",
     "output_type": "stream",
     "text": [
      "Using TensorFlow backend.\n"
     ]
    }
   ],
   "source": [
    "import keras\n",
    "import keras.layers as L"
   ]
  },
  {
   "cell_type": "code",
   "execution_count": 59,
   "metadata": {},
   "outputs": [],
   "source": [
    "def build_model(n_tokens=len(tokens), n_cat_features=len(categorical_vectorizer.vocabulary_), hid_size=64):\n",
    "    \"\"\" Build a model that maps three data sources to a single linear output: predicted log1p(salary) \"\"\"\n",
    "    \n",
    "    l_title = L.Input(shape=[None], name=\"Title\")\n",
    "    l_descr = L.Input(shape=[None], name=\"FullDescription\")\n",
    "    l_categ = L.Input(shape=[n_cat_features], name=\"Categorical\")\n",
    "    \n",
    "    # Build your monster!\n",
    "    \n",
    "    # <YOUR CODE>\n",
    "    \n",
    "    emb_title = L.Embedding(output_dim=512, input_dim=34158, input_length=10)(l_title)\n",
    "    c_title = L.Conv1D(1, (2, ), padding='same', activation='relu')(emb_title)\n",
    "    p_title = L.GlobalMaxPooling1D()(c_title)\n",
    "    \n",
    "    emb_descr = L.Embedding(output_dim=512, input_dim=34158, input_length=10)(l_descr)\n",
    "    c_descr = L.Conv1D(1, (2, ), padding='same', activation='relu')(emb_descr)\n",
    "    p_descr = L.GlobalMaxPooling1D()(c_descr)\n",
    "    \n",
    "    f_categ = L.Dense(64, activation='relu')(l_categ)\n",
    "    \n",
    "    x = L.concatenate([p_title, p_descr, f_categ])\n",
    "    x = L.Dense(64, activation='relu')(x)\n",
    "    x = L.Dense(64, activation='relu')(x)\n",
    "    \n",
    "    output_layer = L.Dense(1, activation='linear')(x)\n",
    "    # end of your code\n",
    "    \n",
    "    model = keras.models.Model(inputs=[l_title, l_descr, l_categ], outputs=[output_layer])\n",
    "    model.compile('adam', 'mean_squared_error', metrics=['mean_absolute_error'])\n",
    "    return model\n",
    "    "
   ]
  },
  {
   "cell_type": "code",
   "execution_count": 60,
   "metadata": {},
   "outputs": [
    {
     "name": "stdout",
     "output_type": "stream",
     "text": [
      "__________________________________________________________________________________________________\n",
      "Layer (type)                    Output Shape         Param #     Connected to                     \n",
      "==================================================================================================\n",
      "Title (InputLayer)              (None, None)         0                                            \n",
      "__________________________________________________________________________________________________\n",
      "FullDescription (InputLayer)    (None, None)         0                                            \n",
      "__________________________________________________________________________________________________\n",
      "embedding_5 (Embedding)         (None, 10, 512)      17488896    Title[0][0]                      \n",
      "__________________________________________________________________________________________________\n",
      "embedding_6 (Embedding)         (None, 10, 512)      17488896    FullDescription[0][0]            \n",
      "__________________________________________________________________________________________________\n",
      "conv1d_5 (Conv1D)               (None, 10, 1)        1025        embedding_5[0][0]                \n",
      "__________________________________________________________________________________________________\n",
      "conv1d_6 (Conv1D)               (None, 10, 1)        1025        embedding_6[0][0]                \n",
      "__________________________________________________________________________________________________\n",
      "Categorical (InputLayer)        (None, 3767)         0                                            \n",
      "__________________________________________________________________________________________________\n",
      "global_max_pooling1d_5 (GlobalM (None, 1)            0           conv1d_5[0][0]                   \n",
      "__________________________________________________________________________________________________\n",
      "global_max_pooling1d_6 (GlobalM (None, 1)            0           conv1d_6[0][0]                   \n",
      "__________________________________________________________________________________________________\n",
      "dense_5 (Dense)                 (None, 64)           241152      Categorical[0][0]                \n",
      "__________________________________________________________________________________________________\n",
      "concatenate_2 (Concatenate)     (None, 66)           0           global_max_pooling1d_5[0][0]     \n",
      "                                                                 global_max_pooling1d_6[0][0]     \n",
      "                                                                 dense_5[0][0]                    \n",
      "__________________________________________________________________________________________________\n",
      "dense_6 (Dense)                 (None, 64)           4288        concatenate_2[0][0]              \n",
      "__________________________________________________________________________________________________\n",
      "dense_7 (Dense)                 (None, 64)           4160        dense_6[0][0]                    \n",
      "__________________________________________________________________________________________________\n",
      "dense_8 (Dense)                 (None, 1)            65          dense_7[0][0]                    \n",
      "==================================================================================================\n",
      "Total params: 35,229,507\n",
      "Trainable params: 35,229,507\n",
      "Non-trainable params: 0\n",
      "__________________________________________________________________________________________________\n"
     ]
    }
   ],
   "source": [
    "model = build_model()\n",
    "model.summary()\n",
    "\n",
    "dummy_pred = model.predict(make_batch(data_train[:100]))\n",
    "dummy_loss = model.train_on_batch(make_batch(data_train[:100]), data_train['Log1pSalary'][:100])[0]\n",
    "assert dummy_pred.shape == (100, 1)\n",
    "assert len(np.unique(dummy_pred)) > 20, \"model returns suspiciously few unique outputs. Check your initialization\"\n",
    "assert np.ndim(dummy_loss) == 0 and 0. <= dummy_loss <= 250., \"make sure you minimize MSE\""
   ]
  },
  {
   "cell_type": "markdown",
   "metadata": {},
   "source": [
    "#### Training and evaluation\n",
    "\n",
    "As usual, we gonna feed our monster with random minibatches of data. \n",
    "\n",
    "As we train, we want to monitor not only loss function, which is computed in log-space, but also the actual error measured in dollars."
   ]
  },
  {
   "cell_type": "code",
   "execution_count": 61,
   "metadata": {},
   "outputs": [],
   "source": [
    "def iterate_minibatches(data, batch_size=256, shuffle=True, cycle=False, **kwargs):\n",
    "    \"\"\" iterates minibatches of data in random order \"\"\"\n",
    "    while True:\n",
    "        indices = np.arange(len(data))\n",
    "        if shuffle:\n",
    "            indices = np.random.permutation(indices)\n",
    "\n",
    "        for start in range(0, len(indices), batch_size):\n",
    "            batch = make_batch(data.iloc[indices[start : start + batch_size]], **kwargs)\n",
    "            target = batch.pop(target_column)\n",
    "            yield batch, target\n",
    "        \n",
    "        if not cycle: break"
   ]
  },
  {
   "cell_type": "markdown",
   "metadata": {},
   "source": [
    "### Model training\n",
    "\n",
    "We can now fit our model the usual minibatch way. The interesting part is that we train on an infinite stream of minibatches, produced by `iterate_minibatches` function."
   ]
  },
  {
   "cell_type": "code",
   "execution_count": 62,
   "metadata": {
    "scrolled": true
   },
   "outputs": [
    {
     "name": "stdout",
     "output_type": "stream",
     "text": [
      "Epoch 1/10\n",
      "100/100 [==============================] - 21s 209ms/step - loss: 30.3554 - mean_absolute_error: 3.8262 - val_loss: 0.3284 - val_mean_absolute_error: 0.4486\n",
      "Epoch 2/10\n",
      "100/100 [==============================] - 15s 154ms/step - loss: 0.2140 - mean_absolute_error: 0.3626 - val_loss: 0.1786 - val_mean_absolute_error: 0.3299\n",
      "Epoch 3/10\n",
      "100/100 [==============================] - 14s 142ms/step - loss: 0.1640 - mean_absolute_error: 0.3142 - val_loss: 0.1578 - val_mean_absolute_error: 0.3079\n",
      "Epoch 4/10\n",
      "100/100 [==============================] - 14s 136ms/step - loss: 0.1568 - mean_absolute_error: 0.3060 - val_loss: 0.1492 - val_mean_absolute_error: 0.2995\n",
      "Epoch 5/10\n",
      "100/100 [==============================] - 13s 134ms/step - loss: 0.1511 - mean_absolute_error: 0.2998 - val_loss: 0.1468 - val_mean_absolute_error: 0.2960\n",
      "Epoch 6/10\n",
      "100/100 [==============================] - 12s 124ms/step - loss: 0.1461 - mean_absolute_error: 0.2962 - val_loss: 0.1449 - val_mean_absolute_error: 0.2952\n",
      "Epoch 7/10\n",
      "100/100 [==============================] - 13s 126ms/step - loss: 0.1435 - mean_absolute_error: 0.2908 - val_loss: 0.1409 - val_mean_absolute_error: 0.2901\n",
      "Epoch 8/10\n",
      "100/100 [==============================] - 12s 119ms/step - loss: 0.1406 - mean_absolute_error: 0.2879 - val_loss: 0.1407 - val_mean_absolute_error: 0.2888\n",
      "Epoch 9/10\n",
      "100/100 [==============================] - 11s 107ms/step - loss: 0.1355 - mean_absolute_error: 0.2843 - val_loss: 0.1389 - val_mean_absolute_error: 0.2872\n",
      "Epoch 10/10\n",
      "100/100 [==============================] - 11s 105ms/step - loss: 0.1393 - mean_absolute_error: 0.2863 - val_loss: 0.1369 - val_mean_absolute_error: 0.2846\n"
     ]
    },
    {
     "data": {
      "text/plain": [
       "<keras.callbacks.History at 0x20fe700fe80>"
      ]
     },
     "execution_count": 62,
     "metadata": {},
     "output_type": "execute_result"
    }
   ],
   "source": [
    "batch_size = 256\n",
    "epochs = 10            # definitely too small\n",
    "steps_per_epoch = 100  # for full pass over data: (len(data_train) - 1) // batch_size + 1\n",
    "\n",
    "model = build_model()\n",
    "\n",
    "model.fit_generator(iterate_minibatches(data_train, batch_size, cycle=True, word_dropout=0.05), \n",
    "                    epochs=epochs, steps_per_epoch=steps_per_epoch,\n",
    "                    \n",
    "                    validation_data=iterate_minibatches(data_val, batch_size, cycle=True),\n",
    "                    validation_steps=data_val.shape[0] // batch_size\n",
    "                   )"
   ]
  },
  {
   "cell_type": "code",
   "execution_count": 63,
   "metadata": {},
   "outputs": [
    {
     "name": "stdout",
     "output_type": "stream",
     "text": [
      "Train results:\n",
      "Mean square error: 0.13278\n",
      "Mean absolute error: 0.27960\n",
      "Val results:\n",
      "Mean square error: 0.13682\n",
      "Mean absolute error: 0.28479\n"
     ]
    }
   ],
   "source": [
    "def print_metrics(model, data, batch_size=batch_size, name=\"\", **kw):\n",
    "    squared_error = abs_error = num_samples = 0.0\n",
    "    for batch_x, batch_y in iterate_minibatches(data, batch_size=batch_size, shuffle=False, **kw):\n",
    "        batch_pred = model.predict(batch_x)[:, 0]\n",
    "        squared_error += np.sum(np.square(batch_pred - batch_y))\n",
    "        abs_error += np.sum(np.abs(batch_pred - batch_y))\n",
    "        num_samples += len(batch_y)\n",
    "    print(\"%s results:\" % (name or \"\"))\n",
    "    print(\"Mean square error: %.5f\" % (squared_error / num_samples))\n",
    "    print(\"Mean absolute error: %.5f\" % (abs_error / num_samples))\n",
    "    return squared_error, abs_error\n",
    "    \n",
    "print_metrics(model, data_train, name='Train')\n",
    "print_metrics(model, data_val, name='Val');"
   ]
  },
  {
   "cell_type": "markdown",
   "metadata": {},
   "source": [
    "### Bonus part: explaining model predictions\n",
    "\n",
    "It's usually a good idea to understand how your model works before you let it make actual decisions. It's simple for linear models: just see which words learned positive or negative weights. However, its much harder for neural networks that learn complex nonlinear dependencies.\n",
    "\n",
    "There are, however, some ways to look inside the black box:\n",
    "* Seeing how model responds to input perturbations\n",
    "* Finding inputs that maximize/minimize activation of some chosen neurons (_read more [on distill.pub](https://distill.pub/2018/building-blocks/)_)\n",
    "* Building local linear approximations to your neural network: [article](https://arxiv.org/abs/1602.04938), [eli5 library](https://github.com/TeamHG-Memex/eli5/tree/master/eli5/formatters)\n",
    "\n",
    "Today we gonna try the first method just because it's the simplest one."
   ]
  },
  {
   "cell_type": "code",
   "execution_count": 97,
   "metadata": {},
   "outputs": [],
   "source": [
    "def explain(model, sample, col_name='Title'):\n",
    "    \"\"\" Computes the effect each word had on model predictions \"\"\"\n",
    "    sample = dict(sample)\n",
    "#     print(sample)\n",
    "    sample_col_tokens = [tokens[token_to_id.get(tok, 0)] for tok in sample[col_name].split()]\n",
    "    print(sample_col_tokens)\n",
    "    data_drop_one_token = pd.DataFrame([sample] * (len(sample_col_tokens) + 1))\n",
    "    print(data_drop_one_token)\n",
    "    for drop_i in range(len(sample_col_tokens)):\n",
    "        data_drop_one_token.loc[drop_i, col_name] = ' '.join(UNK if i == drop_i else tok\n",
    "                                                   for i, tok in enumerate(sample_col_tokens))\n",
    "    print(data_drop_one_token)\n",
    "\n",
    "    *predictions_drop_one_token, baseline_pred = model.predict(make_batch(data_drop_one_token))[:, 0]\n",
    "    print(*predictions_drop_one_token)\n",
    "    print(baseline_pred)\n",
    "    diffs = baseline_pred - predictions_drop_one_token\n",
    "    return list(zip(sample_col_tokens, diffs))"
   ]
  },
  {
   "cell_type": "code",
   "execution_count": 98,
   "metadata": {},
   "outputs": [],
   "source": [
    "from IPython.display import HTML, display_html\n",
    "\n",
    "def draw_html(tokens_and_weights, cmap=plt.get_cmap(\"bwr\"), display=True,\n",
    "              token_template=\"\"\"<span style=\"background-color: {color_hex}\">{token}</span>\"\"\",\n",
    "              font_style=\"font-size:14px;\"\n",
    "             ):\n",
    "    \n",
    "    def get_color_hex(weight):\n",
    "        rgba = cmap(1. / (1 + np.exp(weight)), bytes=True)\n",
    "        return '#%02X%02X%02X' % rgba[:3]\n",
    "    \n",
    "    tokens_html = [\n",
    "        token_template.format(token=token, color_hex=get_color_hex(weight))\n",
    "        for token, weight in tokens_and_weights\n",
    "    ]\n",
    "    \n",
    "    \n",
    "    raw_html = \"\"\"<p style=\"{}\">{}</p>\"\"\".format(font_style, ' '.join(tokens_html))\n",
    "    if display:\n",
    "        display_html(HTML(raw_html))\n",
    "        \n",
    "    return raw_html\n",
    "    "
   ]
  },
  {
   "cell_type": "code",
   "execution_count": 99,
   "metadata": {
    "scrolled": true
   },
   "outputs": [
    {
     "name": "stdout",
     "output_type": "stream",
     "text": [
      "['sales', 'specialist', 'iv', 'access', 'and', 'infusion']\n",
      "     Category               Company ContractTime ContractType  \\\n",
      "0  Sales Jobs  CD Sales Recruitment          NaN          NaN   \n",
      "1  Sales Jobs  CD Sales Recruitment          NaN          NaN   \n",
      "2  Sales Jobs  CD Sales Recruitment          NaN          NaN   \n",
      "3  Sales Jobs  CD Sales Recruitment          NaN          NaN   \n",
      "4  Sales Jobs  CD Sales Recruitment          NaN          NaN   \n",
      "5  Sales Jobs  CD Sales Recruitment          NaN          NaN   \n",
      "6  Sales Jobs  CD Sales Recruitment          NaN          NaN   \n",
      "\n",
      "                                     FullDescription        Id  \\\n",
      "0  sales representative medical sales iv access a...  68258565   \n",
      "1  sales representative medical sales iv access a...  68258565   \n",
      "2  sales representative medical sales iv access a...  68258565   \n",
      "3  sales representative medical sales iv access a...  68258565   \n",
      "4  sales representative medical sales iv access a...  68258565   \n",
      "5  sales representative medical sales iv access a...  68258565   \n",
      "6  sales representative medical sales iv access a...  68258565   \n",
      "\n",
      "  LocationNormalized    LocationRaw  Log1pSalary  SalaryNormalized  \\\n",
      "0      East Midlands  East Midlands    10.434145             34000   \n",
      "1      East Midlands  East Midlands    10.434145             34000   \n",
      "2      East Midlands  East Midlands    10.434145             34000   \n",
      "3      East Midlands  East Midlands    10.434145             34000   \n",
      "4      East Midlands  East Midlands    10.434145             34000   \n",
      "5      East Midlands  East Midlands    10.434145             34000   \n",
      "6      East Midlands  East Midlands    10.434145             34000   \n",
      "\n",
      "                                    SalaryRaw         SourceName  \\\n",
      "0  30000 - 38000 per annum + Company Benefits  salestarget.co.uk   \n",
      "1  30000 - 38000 per annum + Company Benefits  salestarget.co.uk   \n",
      "2  30000 - 38000 per annum + Company Benefits  salestarget.co.uk   \n",
      "3  30000 - 38000 per annum + Company Benefits  salestarget.co.uk   \n",
      "4  30000 - 38000 per annum + Company Benefits  salestarget.co.uk   \n",
      "5  30000 - 38000 per annum + Company Benefits  salestarget.co.uk   \n",
      "6  30000 - 38000 per annum + Company Benefits  salestarget.co.uk   \n",
      "\n",
      "                                     Title  \n",
      "0  sales specialist iv access and infusion  \n",
      "1  sales specialist iv access and infusion  \n",
      "2  sales specialist iv access and infusion  \n",
      "3  sales specialist iv access and infusion  \n",
      "4  sales specialist iv access and infusion  \n",
      "5  sales specialist iv access and infusion  \n",
      "6  sales specialist iv access and infusion  \n",
      "     Category               Company ContractTime ContractType  \\\n",
      "0  Sales Jobs  CD Sales Recruitment          NaN          NaN   \n",
      "1  Sales Jobs  CD Sales Recruitment          NaN          NaN   \n",
      "2  Sales Jobs  CD Sales Recruitment          NaN          NaN   \n",
      "3  Sales Jobs  CD Sales Recruitment          NaN          NaN   \n",
      "4  Sales Jobs  CD Sales Recruitment          NaN          NaN   \n",
      "5  Sales Jobs  CD Sales Recruitment          NaN          NaN   \n",
      "6  Sales Jobs  CD Sales Recruitment          NaN          NaN   \n",
      "\n",
      "                                     FullDescription        Id  \\\n",
      "0  sales representative medical sales iv access a...  68258565   \n",
      "1  sales representative medical sales iv access a...  68258565   \n",
      "2  sales representative medical sales iv access a...  68258565   \n",
      "3  sales representative medical sales iv access a...  68258565   \n",
      "4  sales representative medical sales iv access a...  68258565   \n",
      "5  sales representative medical sales iv access a...  68258565   \n",
      "6  sales representative medical sales iv access a...  68258565   \n",
      "\n",
      "  LocationNormalized    LocationRaw  Log1pSalary  SalaryNormalized  \\\n",
      "0      East Midlands  East Midlands    10.434145             34000   \n",
      "1      East Midlands  East Midlands    10.434145             34000   \n",
      "2      East Midlands  East Midlands    10.434145             34000   \n",
      "3      East Midlands  East Midlands    10.434145             34000   \n",
      "4      East Midlands  East Midlands    10.434145             34000   \n",
      "5      East Midlands  East Midlands    10.434145             34000   \n",
      "6      East Midlands  East Midlands    10.434145             34000   \n",
      "\n",
      "                                    SalaryRaw         SourceName  \\\n",
      "0  30000 - 38000 per annum + Company Benefits  salestarget.co.uk   \n",
      "1  30000 - 38000 per annum + Company Benefits  salestarget.co.uk   \n",
      "2  30000 - 38000 per annum + Company Benefits  salestarget.co.uk   \n",
      "3  30000 - 38000 per annum + Company Benefits  salestarget.co.uk   \n",
      "4  30000 - 38000 per annum + Company Benefits  salestarget.co.uk   \n",
      "5  30000 - 38000 per annum + Company Benefits  salestarget.co.uk   \n",
      "6  30000 - 38000 per annum + Company Benefits  salestarget.co.uk   \n",
      "\n",
      "                                      Title  \n",
      "0     UNK specialist iv access and infusion  \n",
      "1          sales UNK iv access and infusion  \n",
      "2  sales specialist UNK access and infusion  \n",
      "3      sales specialist iv UNK and infusion  \n",
      "4   sales specialist iv access UNK infusion  \n",
      "5        sales specialist iv access and UNK  \n",
      "6   sales specialist iv access and infusion  \n",
      "9.558112 9.400829 9.4961605 9.591363 9.4961605 9.4961605\n",
      "9.4961605\n"
     ]
    },
    {
     "data": {
      "text/html": [
       "<p style=\"font-size:20px;\"><span style=\"background-color: #FFD8D8\">sales</span> <span style=\"background-color: #C3C3FF\">specialist</span> <span style=\"background-color: #FFFEFE\">iv</span> <span style=\"background-color: #FFC3C3\">access</span> <span style=\"background-color: #FFFEFE\">and</span> <span style=\"background-color: #FFFEFE\">infusion</span></p>"
      ]
     },
     "metadata": {},
     "output_type": "display_data"
    },
    {
     "name": "stdout",
     "output_type": "stream",
     "text": [
      "['sales', 'representative', 'medical', 'sales', 'iv', 'access', 'and', 'infusion', 'an', 'opportunity', 'to', 'work', 'for', 'the', 'industry', 'leading', 'manufacturer', 'of', 'iv', 'access', 'and', 'infusion', 'solutions', '.', 'formally', 'recognised', 'as', 'the', 'number', '****', 'company', 'in', 'this', 'market', 'space', ',', 'our', 'client', 'are', 'an', 'ethical', 'and', 'dynamic', 'organisation', 'absolutely', 'committed', 'to', 'the', 'advancement', 'of', 'innovative', 'technologies', '.', 'job', 'title', ':', 'sales', 'specialist', 'iv', 'access', 'and', 'infusion', 'selling', ':', 'medication', 'delivery', 'solutions', 'selling', 'to', ':', 'iv', 'teams', ',', 'infection', 'control', ',', 'lead', 'intensive', 'care', 'nurse', 'specialists', ',', 'ward', 'managers', 'territory', ':', 'east', 'midlands', 'location', ':', 'east', 'midlands', 'package', ':', 'basic', ':', '****', 'k', '****', 'k', ',', 'uncapped', 'bonus', 'in', 'addition', ',', 'full', 'corporate', 'benefits', 'company', 'information', 'hugely', 'ethical', 'and', 'professional', 'global', 'organisation', 'extremely', 'well', 'established', 'in', 'the', 'uk', 'the', 'market', 'leader', 'across', 'all', 'of', 'their', 'core', 'business', 'areas', 'focus', 'on', 'providing', 'cutting', 'edge', 'solutions', 'along', 'with', 'outstanding', 'service', 'and', 'support', 'a', 'business', 'that', 'retain', 'talented', 'personnel', 'by', 'offering', 'a', 'strong', 'platform', 'for', 'career', 'development', 'sales', 'specialist', 'iv', 'access', 'and', 'infusion', 'you', 'must', 'have', '/', 'be', 'the', 'following', 'at', 'least', '2', 'years', 'medical', 'device', 'sales', 'experience', '.', 'candidates', 'who', 'have', 'sold', 'disposables', '/', 'consumables', 'or', 'similar', 'into', 'hospitals', 'would', 'be', 'of', 'particular', 'interest', '.', 'candidates', 'must', 'have', 'sold', 'into', 'hospitals', 'demonstrable', 'performance', 'and', 'achievements', 'so', 'far', 'personable', ',', 'adaptable', 'and', 'willing', 'to', 'learn', 'keen', 'and', 'eager', 'to', 'be', 'a', 'success', 'candidates', 'must', 'have', 'a', 'degree', 'or', 'at', 'least', 'be', 'able', 'to', 'show', 'a', 'strong', 'ability', 'to', 'learn', 'role', 'information', 'managing', 'the', 'east', 'midlands', 'region', 'selling', 'across', 'the', 'company', \"'\", 's', 'range', 'of', 'iv', 'and', 'infusion', 'solutions', 'portfolio', 'selling', 'into', 'lead', 'intensive', 'care', 'nurse', 'specialists', ',', 'ward', 'managers', ',', 'iv', 'teams', ',', 'infection', 'control', 'teams', ',', 'procurement', 'sales', 'specialist', 'iv', 'access', 'and', 'infusion', 'candidates', 'must', 'be', 'eligible', 'to', 'work', 'and', 'live', 'in', 'the', 'uk', '.', 'please', 'contact', 'allan', 'waller', 'on', '****', '****', '****', 'or', 'please', 'hit', 'the', 'apply', 'button', '.', 'this', 'job', 'was', 'originally', 'posted', 'as', 'www', '.', 'salestarget', '.', 'co', '.', 'uk', '/', 'jobseeking', '/', 'UNK', '****']\n",
      "       Category               Company ContractTime ContractType  \\\n",
      "0    Sales Jobs  CD Sales Recruitment          NaN          NaN   \n",
      "1    Sales Jobs  CD Sales Recruitment          NaN          NaN   \n",
      "2    Sales Jobs  CD Sales Recruitment          NaN          NaN   \n",
      "3    Sales Jobs  CD Sales Recruitment          NaN          NaN   \n",
      "4    Sales Jobs  CD Sales Recruitment          NaN          NaN   \n",
      "5    Sales Jobs  CD Sales Recruitment          NaN          NaN   \n",
      "6    Sales Jobs  CD Sales Recruitment          NaN          NaN   \n",
      "7    Sales Jobs  CD Sales Recruitment          NaN          NaN   \n",
      "8    Sales Jobs  CD Sales Recruitment          NaN          NaN   \n",
      "9    Sales Jobs  CD Sales Recruitment          NaN          NaN   \n",
      "10   Sales Jobs  CD Sales Recruitment          NaN          NaN   \n",
      "11   Sales Jobs  CD Sales Recruitment          NaN          NaN   \n",
      "12   Sales Jobs  CD Sales Recruitment          NaN          NaN   \n",
      "13   Sales Jobs  CD Sales Recruitment          NaN          NaN   \n",
      "14   Sales Jobs  CD Sales Recruitment          NaN          NaN   \n",
      "15   Sales Jobs  CD Sales Recruitment          NaN          NaN   \n",
      "16   Sales Jobs  CD Sales Recruitment          NaN          NaN   \n",
      "17   Sales Jobs  CD Sales Recruitment          NaN          NaN   \n",
      "18   Sales Jobs  CD Sales Recruitment          NaN          NaN   \n",
      "19   Sales Jobs  CD Sales Recruitment          NaN          NaN   \n",
      "20   Sales Jobs  CD Sales Recruitment          NaN          NaN   \n",
      "21   Sales Jobs  CD Sales Recruitment          NaN          NaN   \n",
      "22   Sales Jobs  CD Sales Recruitment          NaN          NaN   \n",
      "23   Sales Jobs  CD Sales Recruitment          NaN          NaN   \n",
      "24   Sales Jobs  CD Sales Recruitment          NaN          NaN   \n",
      "25   Sales Jobs  CD Sales Recruitment          NaN          NaN   \n",
      "26   Sales Jobs  CD Sales Recruitment          NaN          NaN   \n",
      "27   Sales Jobs  CD Sales Recruitment          NaN          NaN   \n",
      "28   Sales Jobs  CD Sales Recruitment          NaN          NaN   \n",
      "29   Sales Jobs  CD Sales Recruitment          NaN          NaN   \n",
      "..          ...                   ...          ...          ...   \n",
      "302  Sales Jobs  CD Sales Recruitment          NaN          NaN   \n",
      "303  Sales Jobs  CD Sales Recruitment          NaN          NaN   \n",
      "304  Sales Jobs  CD Sales Recruitment          NaN          NaN   \n",
      "305  Sales Jobs  CD Sales Recruitment          NaN          NaN   \n",
      "306  Sales Jobs  CD Sales Recruitment          NaN          NaN   \n",
      "307  Sales Jobs  CD Sales Recruitment          NaN          NaN   \n",
      "308  Sales Jobs  CD Sales Recruitment          NaN          NaN   \n",
      "309  Sales Jobs  CD Sales Recruitment          NaN          NaN   \n",
      "310  Sales Jobs  CD Sales Recruitment          NaN          NaN   \n",
      "311  Sales Jobs  CD Sales Recruitment          NaN          NaN   \n",
      "312  Sales Jobs  CD Sales Recruitment          NaN          NaN   \n",
      "313  Sales Jobs  CD Sales Recruitment          NaN          NaN   \n",
      "314  Sales Jobs  CD Sales Recruitment          NaN          NaN   \n",
      "315  Sales Jobs  CD Sales Recruitment          NaN          NaN   \n",
      "316  Sales Jobs  CD Sales Recruitment          NaN          NaN   \n",
      "317  Sales Jobs  CD Sales Recruitment          NaN          NaN   \n",
      "318  Sales Jobs  CD Sales Recruitment          NaN          NaN   \n",
      "319  Sales Jobs  CD Sales Recruitment          NaN          NaN   \n",
      "320  Sales Jobs  CD Sales Recruitment          NaN          NaN   \n",
      "321  Sales Jobs  CD Sales Recruitment          NaN          NaN   \n",
      "322  Sales Jobs  CD Sales Recruitment          NaN          NaN   \n",
      "323  Sales Jobs  CD Sales Recruitment          NaN          NaN   \n",
      "324  Sales Jobs  CD Sales Recruitment          NaN          NaN   \n",
      "325  Sales Jobs  CD Sales Recruitment          NaN          NaN   \n",
      "326  Sales Jobs  CD Sales Recruitment          NaN          NaN   \n",
      "327  Sales Jobs  CD Sales Recruitment          NaN          NaN   \n",
      "328  Sales Jobs  CD Sales Recruitment          NaN          NaN   \n",
      "329  Sales Jobs  CD Sales Recruitment          NaN          NaN   \n",
      "330  Sales Jobs  CD Sales Recruitment          NaN          NaN   \n",
      "331  Sales Jobs  CD Sales Recruitment          NaN          NaN   \n",
      "\n",
      "                                       FullDescription        Id  \\\n",
      "0    sales representative medical sales iv access a...  68258565   \n",
      "1    sales representative medical sales iv access a...  68258565   \n",
      "2    sales representative medical sales iv access a...  68258565   \n",
      "3    sales representative medical sales iv access a...  68258565   \n",
      "4    sales representative medical sales iv access a...  68258565   \n",
      "5    sales representative medical sales iv access a...  68258565   \n",
      "6    sales representative medical sales iv access a...  68258565   \n",
      "7    sales representative medical sales iv access a...  68258565   \n",
      "8    sales representative medical sales iv access a...  68258565   \n",
      "9    sales representative medical sales iv access a...  68258565   \n",
      "10   sales representative medical sales iv access a...  68258565   \n",
      "11   sales representative medical sales iv access a...  68258565   \n",
      "12   sales representative medical sales iv access a...  68258565   \n",
      "13   sales representative medical sales iv access a...  68258565   \n",
      "14   sales representative medical sales iv access a...  68258565   \n",
      "15   sales representative medical sales iv access a...  68258565   \n",
      "16   sales representative medical sales iv access a...  68258565   \n",
      "17   sales representative medical sales iv access a...  68258565   \n",
      "18   sales representative medical sales iv access a...  68258565   \n",
      "19   sales representative medical sales iv access a...  68258565   \n",
      "20   sales representative medical sales iv access a...  68258565   \n",
      "21   sales representative medical sales iv access a...  68258565   \n",
      "22   sales representative medical sales iv access a...  68258565   \n",
      "23   sales representative medical sales iv access a...  68258565   \n",
      "24   sales representative medical sales iv access a...  68258565   \n",
      "25   sales representative medical sales iv access a...  68258565   \n",
      "26   sales representative medical sales iv access a...  68258565   \n",
      "27   sales representative medical sales iv access a...  68258565   \n",
      "28   sales representative medical sales iv access a...  68258565   \n",
      "29   sales representative medical sales iv access a...  68258565   \n",
      "..                                                 ...       ...   \n",
      "302  sales representative medical sales iv access a...  68258565   \n",
      "303  sales representative medical sales iv access a...  68258565   \n",
      "304  sales representative medical sales iv access a...  68258565   \n",
      "305  sales representative medical sales iv access a...  68258565   \n",
      "306  sales representative medical sales iv access a...  68258565   \n",
      "307  sales representative medical sales iv access a...  68258565   \n",
      "308  sales representative medical sales iv access a...  68258565   \n",
      "309  sales representative medical sales iv access a...  68258565   \n",
      "310  sales representative medical sales iv access a...  68258565   \n",
      "311  sales representative medical sales iv access a...  68258565   \n",
      "312  sales representative medical sales iv access a...  68258565   \n",
      "313  sales representative medical sales iv access a...  68258565   \n",
      "314  sales representative medical sales iv access a...  68258565   \n",
      "315  sales representative medical sales iv access a...  68258565   \n",
      "316  sales representative medical sales iv access a...  68258565   \n",
      "317  sales representative medical sales iv access a...  68258565   \n",
      "318  sales representative medical sales iv access a...  68258565   \n",
      "319  sales representative medical sales iv access a...  68258565   \n",
      "320  sales representative medical sales iv access a...  68258565   \n",
      "321  sales representative medical sales iv access a...  68258565   \n",
      "322  sales representative medical sales iv access a...  68258565   \n",
      "323  sales representative medical sales iv access a...  68258565   \n",
      "324  sales representative medical sales iv access a...  68258565   \n",
      "325  sales representative medical sales iv access a...  68258565   \n",
      "326  sales representative medical sales iv access a...  68258565   \n",
      "327  sales representative medical sales iv access a...  68258565   \n",
      "328  sales representative medical sales iv access a...  68258565   \n",
      "329  sales representative medical sales iv access a...  68258565   \n",
      "330  sales representative medical sales iv access a...  68258565   \n",
      "331  sales representative medical sales iv access a...  68258565   \n",
      "\n",
      "    LocationNormalized    LocationRaw  Log1pSalary  SalaryNormalized  \\\n",
      "0        East Midlands  East Midlands    10.434145             34000   \n",
      "1        East Midlands  East Midlands    10.434145             34000   \n",
      "2        East Midlands  East Midlands    10.434145             34000   \n",
      "3        East Midlands  East Midlands    10.434145             34000   \n",
      "4        East Midlands  East Midlands    10.434145             34000   \n",
      "5        East Midlands  East Midlands    10.434145             34000   \n",
      "6        East Midlands  East Midlands    10.434145             34000   \n",
      "7        East Midlands  East Midlands    10.434145             34000   \n",
      "8        East Midlands  East Midlands    10.434145             34000   \n",
      "9        East Midlands  East Midlands    10.434145             34000   \n",
      "10       East Midlands  East Midlands    10.434145             34000   \n",
      "11       East Midlands  East Midlands    10.434145             34000   \n",
      "12       East Midlands  East Midlands    10.434145             34000   \n",
      "13       East Midlands  East Midlands    10.434145             34000   \n",
      "14       East Midlands  East Midlands    10.434145             34000   \n",
      "15       East Midlands  East Midlands    10.434145             34000   \n",
      "16       East Midlands  East Midlands    10.434145             34000   \n",
      "17       East Midlands  East Midlands    10.434145             34000   \n",
      "18       East Midlands  East Midlands    10.434145             34000   \n",
      "19       East Midlands  East Midlands    10.434145             34000   \n",
      "20       East Midlands  East Midlands    10.434145             34000   \n",
      "21       East Midlands  East Midlands    10.434145             34000   \n",
      "22       East Midlands  East Midlands    10.434145             34000   \n",
      "23       East Midlands  East Midlands    10.434145             34000   \n",
      "24       East Midlands  East Midlands    10.434145             34000   \n",
      "25       East Midlands  East Midlands    10.434145             34000   \n",
      "26       East Midlands  East Midlands    10.434145             34000   \n",
      "27       East Midlands  East Midlands    10.434145             34000   \n",
      "28       East Midlands  East Midlands    10.434145             34000   \n",
      "29       East Midlands  East Midlands    10.434145             34000   \n",
      "..                 ...            ...          ...               ...   \n",
      "302      East Midlands  East Midlands    10.434145             34000   \n",
      "303      East Midlands  East Midlands    10.434145             34000   \n",
      "304      East Midlands  East Midlands    10.434145             34000   \n",
      "305      East Midlands  East Midlands    10.434145             34000   \n",
      "306      East Midlands  East Midlands    10.434145             34000   \n",
      "307      East Midlands  East Midlands    10.434145             34000   \n",
      "308      East Midlands  East Midlands    10.434145             34000   \n",
      "309      East Midlands  East Midlands    10.434145             34000   \n",
      "310      East Midlands  East Midlands    10.434145             34000   \n",
      "311      East Midlands  East Midlands    10.434145             34000   \n",
      "312      East Midlands  East Midlands    10.434145             34000   \n",
      "313      East Midlands  East Midlands    10.434145             34000   \n",
      "314      East Midlands  East Midlands    10.434145             34000   \n",
      "315      East Midlands  East Midlands    10.434145             34000   \n",
      "316      East Midlands  East Midlands    10.434145             34000   \n",
      "317      East Midlands  East Midlands    10.434145             34000   \n",
      "318      East Midlands  East Midlands    10.434145             34000   \n",
      "319      East Midlands  East Midlands    10.434145             34000   \n",
      "320      East Midlands  East Midlands    10.434145             34000   \n",
      "321      East Midlands  East Midlands    10.434145             34000   \n",
      "322      East Midlands  East Midlands    10.434145             34000   \n",
      "323      East Midlands  East Midlands    10.434145             34000   \n",
      "324      East Midlands  East Midlands    10.434145             34000   \n",
      "325      East Midlands  East Midlands    10.434145             34000   \n",
      "326      East Midlands  East Midlands    10.434145             34000   \n",
      "327      East Midlands  East Midlands    10.434145             34000   \n",
      "328      East Midlands  East Midlands    10.434145             34000   \n",
      "329      East Midlands  East Midlands    10.434145             34000   \n",
      "330      East Midlands  East Midlands    10.434145             34000   \n",
      "331      East Midlands  East Midlands    10.434145             34000   \n",
      "\n",
      "                                      SalaryRaw         SourceName  \\\n",
      "0    30000 - 38000 per annum + Company Benefits  salestarget.co.uk   \n",
      "1    30000 - 38000 per annum + Company Benefits  salestarget.co.uk   \n",
      "2    30000 - 38000 per annum + Company Benefits  salestarget.co.uk   \n",
      "3    30000 - 38000 per annum + Company Benefits  salestarget.co.uk   \n",
      "4    30000 - 38000 per annum + Company Benefits  salestarget.co.uk   \n",
      "5    30000 - 38000 per annum + Company Benefits  salestarget.co.uk   \n",
      "6    30000 - 38000 per annum + Company Benefits  salestarget.co.uk   \n",
      "7    30000 - 38000 per annum + Company Benefits  salestarget.co.uk   \n",
      "8    30000 - 38000 per annum + Company Benefits  salestarget.co.uk   \n",
      "9    30000 - 38000 per annum + Company Benefits  salestarget.co.uk   \n",
      "10   30000 - 38000 per annum + Company Benefits  salestarget.co.uk   \n",
      "11   30000 - 38000 per annum + Company Benefits  salestarget.co.uk   \n",
      "12   30000 - 38000 per annum + Company Benefits  salestarget.co.uk   \n",
      "13   30000 - 38000 per annum + Company Benefits  salestarget.co.uk   \n",
      "14   30000 - 38000 per annum + Company Benefits  salestarget.co.uk   \n",
      "15   30000 - 38000 per annum + Company Benefits  salestarget.co.uk   \n",
      "16   30000 - 38000 per annum + Company Benefits  salestarget.co.uk   \n",
      "17   30000 - 38000 per annum + Company Benefits  salestarget.co.uk   \n",
      "18   30000 - 38000 per annum + Company Benefits  salestarget.co.uk   \n",
      "19   30000 - 38000 per annum + Company Benefits  salestarget.co.uk   \n",
      "20   30000 - 38000 per annum + Company Benefits  salestarget.co.uk   \n",
      "21   30000 - 38000 per annum + Company Benefits  salestarget.co.uk   \n",
      "22   30000 - 38000 per annum + Company Benefits  salestarget.co.uk   \n",
      "23   30000 - 38000 per annum + Company Benefits  salestarget.co.uk   \n",
      "24   30000 - 38000 per annum + Company Benefits  salestarget.co.uk   \n",
      "25   30000 - 38000 per annum + Company Benefits  salestarget.co.uk   \n",
      "26   30000 - 38000 per annum + Company Benefits  salestarget.co.uk   \n",
      "27   30000 - 38000 per annum + Company Benefits  salestarget.co.uk   \n",
      "28   30000 - 38000 per annum + Company Benefits  salestarget.co.uk   \n",
      "29   30000 - 38000 per annum + Company Benefits  salestarget.co.uk   \n",
      "..                                          ...                ...   \n",
      "302  30000 - 38000 per annum + Company Benefits  salestarget.co.uk   \n",
      "303  30000 - 38000 per annum + Company Benefits  salestarget.co.uk   \n",
      "304  30000 - 38000 per annum + Company Benefits  salestarget.co.uk   \n",
      "305  30000 - 38000 per annum + Company Benefits  salestarget.co.uk   \n",
      "306  30000 - 38000 per annum + Company Benefits  salestarget.co.uk   \n",
      "307  30000 - 38000 per annum + Company Benefits  salestarget.co.uk   \n",
      "308  30000 - 38000 per annum + Company Benefits  salestarget.co.uk   \n",
      "309  30000 - 38000 per annum + Company Benefits  salestarget.co.uk   \n",
      "310  30000 - 38000 per annum + Company Benefits  salestarget.co.uk   \n",
      "311  30000 - 38000 per annum + Company Benefits  salestarget.co.uk   \n",
      "312  30000 - 38000 per annum + Company Benefits  salestarget.co.uk   \n",
      "313  30000 - 38000 per annum + Company Benefits  salestarget.co.uk   \n",
      "314  30000 - 38000 per annum + Company Benefits  salestarget.co.uk   \n",
      "315  30000 - 38000 per annum + Company Benefits  salestarget.co.uk   \n",
      "316  30000 - 38000 per annum + Company Benefits  salestarget.co.uk   \n",
      "317  30000 - 38000 per annum + Company Benefits  salestarget.co.uk   \n",
      "318  30000 - 38000 per annum + Company Benefits  salestarget.co.uk   \n",
      "319  30000 - 38000 per annum + Company Benefits  salestarget.co.uk   \n",
      "320  30000 - 38000 per annum + Company Benefits  salestarget.co.uk   \n",
      "321  30000 - 38000 per annum + Company Benefits  salestarget.co.uk   \n",
      "322  30000 - 38000 per annum + Company Benefits  salestarget.co.uk   \n",
      "323  30000 - 38000 per annum + Company Benefits  salestarget.co.uk   \n",
      "324  30000 - 38000 per annum + Company Benefits  salestarget.co.uk   \n",
      "325  30000 - 38000 per annum + Company Benefits  salestarget.co.uk   \n",
      "326  30000 - 38000 per annum + Company Benefits  salestarget.co.uk   \n",
      "327  30000 - 38000 per annum + Company Benefits  salestarget.co.uk   \n",
      "328  30000 - 38000 per annum + Company Benefits  salestarget.co.uk   \n",
      "329  30000 - 38000 per annum + Company Benefits  salestarget.co.uk   \n",
      "330  30000 - 38000 per annum + Company Benefits  salestarget.co.uk   \n",
      "331  30000 - 38000 per annum + Company Benefits  salestarget.co.uk   \n",
      "\n",
      "                                       Title  \n",
      "0    sales specialist iv access and infusion  \n",
      "1    sales specialist iv access and infusion  \n",
      "2    sales specialist iv access and infusion  \n",
      "3    sales specialist iv access and infusion  \n",
      "4    sales specialist iv access and infusion  \n",
      "5    sales specialist iv access and infusion  \n",
      "6    sales specialist iv access and infusion  \n",
      "7    sales specialist iv access and infusion  \n",
      "8    sales specialist iv access and infusion  \n",
      "9    sales specialist iv access and infusion  \n",
      "10   sales specialist iv access and infusion  \n",
      "11   sales specialist iv access and infusion  \n",
      "12   sales specialist iv access and infusion  \n",
      "13   sales specialist iv access and infusion  \n",
      "14   sales specialist iv access and infusion  \n",
      "15   sales specialist iv access and infusion  \n",
      "16   sales specialist iv access and infusion  \n",
      "17   sales specialist iv access and infusion  \n",
      "18   sales specialist iv access and infusion  \n",
      "19   sales specialist iv access and infusion  \n",
      "20   sales specialist iv access and infusion  \n",
      "21   sales specialist iv access and infusion  \n",
      "22   sales specialist iv access and infusion  \n",
      "23   sales specialist iv access and infusion  \n",
      "24   sales specialist iv access and infusion  \n",
      "25   sales specialist iv access and infusion  \n",
      "26   sales specialist iv access and infusion  \n",
      "27   sales specialist iv access and infusion  \n",
      "28   sales specialist iv access and infusion  \n",
      "29   sales specialist iv access and infusion  \n",
      "..                                       ...  \n",
      "302  sales specialist iv access and infusion  \n",
      "303  sales specialist iv access and infusion  \n",
      "304  sales specialist iv access and infusion  \n",
      "305  sales specialist iv access and infusion  \n",
      "306  sales specialist iv access and infusion  \n",
      "307  sales specialist iv access and infusion  \n",
      "308  sales specialist iv access and infusion  \n",
      "309  sales specialist iv access and infusion  \n",
      "310  sales specialist iv access and infusion  \n",
      "311  sales specialist iv access and infusion  \n",
      "312  sales specialist iv access and infusion  \n",
      "313  sales specialist iv access and infusion  \n",
      "314  sales specialist iv access and infusion  \n",
      "315  sales specialist iv access and infusion  \n",
      "316  sales specialist iv access and infusion  \n",
      "317  sales specialist iv access and infusion  \n",
      "318  sales specialist iv access and infusion  \n",
      "319  sales specialist iv access and infusion  \n",
      "320  sales specialist iv access and infusion  \n",
      "321  sales specialist iv access and infusion  \n",
      "322  sales specialist iv access and infusion  \n",
      "323  sales specialist iv access and infusion  \n",
      "324  sales specialist iv access and infusion  \n",
      "325  sales specialist iv access and infusion  \n",
      "326  sales specialist iv access and infusion  \n",
      "327  sales specialist iv access and infusion  \n",
      "328  sales specialist iv access and infusion  \n",
      "329  sales specialist iv access and infusion  \n",
      "330  sales specialist iv access and infusion  \n",
      "331  sales specialist iv access and infusion  \n",
      "\n",
      "[332 rows x 13 columns]\n",
      "       Category               Company ContractTime ContractType  \\\n",
      "0    Sales Jobs  CD Sales Recruitment          NaN          NaN   \n",
      "1    Sales Jobs  CD Sales Recruitment          NaN          NaN   \n",
      "2    Sales Jobs  CD Sales Recruitment          NaN          NaN   \n",
      "3    Sales Jobs  CD Sales Recruitment          NaN          NaN   \n",
      "4    Sales Jobs  CD Sales Recruitment          NaN          NaN   \n",
      "5    Sales Jobs  CD Sales Recruitment          NaN          NaN   \n",
      "6    Sales Jobs  CD Sales Recruitment          NaN          NaN   \n",
      "7    Sales Jobs  CD Sales Recruitment          NaN          NaN   \n",
      "8    Sales Jobs  CD Sales Recruitment          NaN          NaN   \n",
      "9    Sales Jobs  CD Sales Recruitment          NaN          NaN   \n",
      "10   Sales Jobs  CD Sales Recruitment          NaN          NaN   \n",
      "11   Sales Jobs  CD Sales Recruitment          NaN          NaN   \n",
      "12   Sales Jobs  CD Sales Recruitment          NaN          NaN   \n",
      "13   Sales Jobs  CD Sales Recruitment          NaN          NaN   \n",
      "14   Sales Jobs  CD Sales Recruitment          NaN          NaN   \n",
      "15   Sales Jobs  CD Sales Recruitment          NaN          NaN   \n",
      "16   Sales Jobs  CD Sales Recruitment          NaN          NaN   \n",
      "17   Sales Jobs  CD Sales Recruitment          NaN          NaN   \n",
      "18   Sales Jobs  CD Sales Recruitment          NaN          NaN   \n",
      "19   Sales Jobs  CD Sales Recruitment          NaN          NaN   \n",
      "20   Sales Jobs  CD Sales Recruitment          NaN          NaN   \n",
      "21   Sales Jobs  CD Sales Recruitment          NaN          NaN   \n",
      "22   Sales Jobs  CD Sales Recruitment          NaN          NaN   \n",
      "23   Sales Jobs  CD Sales Recruitment          NaN          NaN   \n",
      "24   Sales Jobs  CD Sales Recruitment          NaN          NaN   \n",
      "25   Sales Jobs  CD Sales Recruitment          NaN          NaN   \n",
      "26   Sales Jobs  CD Sales Recruitment          NaN          NaN   \n",
      "27   Sales Jobs  CD Sales Recruitment          NaN          NaN   \n",
      "28   Sales Jobs  CD Sales Recruitment          NaN          NaN   \n",
      "29   Sales Jobs  CD Sales Recruitment          NaN          NaN   \n",
      "..          ...                   ...          ...          ...   \n",
      "302  Sales Jobs  CD Sales Recruitment          NaN          NaN   \n",
      "303  Sales Jobs  CD Sales Recruitment          NaN          NaN   \n",
      "304  Sales Jobs  CD Sales Recruitment          NaN          NaN   \n",
      "305  Sales Jobs  CD Sales Recruitment          NaN          NaN   \n",
      "306  Sales Jobs  CD Sales Recruitment          NaN          NaN   \n",
      "307  Sales Jobs  CD Sales Recruitment          NaN          NaN   \n",
      "308  Sales Jobs  CD Sales Recruitment          NaN          NaN   \n",
      "309  Sales Jobs  CD Sales Recruitment          NaN          NaN   \n",
      "310  Sales Jobs  CD Sales Recruitment          NaN          NaN   \n",
      "311  Sales Jobs  CD Sales Recruitment          NaN          NaN   \n",
      "312  Sales Jobs  CD Sales Recruitment          NaN          NaN   \n",
      "313  Sales Jobs  CD Sales Recruitment          NaN          NaN   \n",
      "314  Sales Jobs  CD Sales Recruitment          NaN          NaN   \n",
      "315  Sales Jobs  CD Sales Recruitment          NaN          NaN   \n",
      "316  Sales Jobs  CD Sales Recruitment          NaN          NaN   \n",
      "317  Sales Jobs  CD Sales Recruitment          NaN          NaN   \n",
      "318  Sales Jobs  CD Sales Recruitment          NaN          NaN   \n",
      "319  Sales Jobs  CD Sales Recruitment          NaN          NaN   \n",
      "320  Sales Jobs  CD Sales Recruitment          NaN          NaN   \n",
      "321  Sales Jobs  CD Sales Recruitment          NaN          NaN   \n",
      "322  Sales Jobs  CD Sales Recruitment          NaN          NaN   \n",
      "323  Sales Jobs  CD Sales Recruitment          NaN          NaN   \n",
      "324  Sales Jobs  CD Sales Recruitment          NaN          NaN   \n",
      "325  Sales Jobs  CD Sales Recruitment          NaN          NaN   \n",
      "326  Sales Jobs  CD Sales Recruitment          NaN          NaN   \n",
      "327  Sales Jobs  CD Sales Recruitment          NaN          NaN   \n",
      "328  Sales Jobs  CD Sales Recruitment          NaN          NaN   \n",
      "329  Sales Jobs  CD Sales Recruitment          NaN          NaN   \n",
      "330  Sales Jobs  CD Sales Recruitment          NaN          NaN   \n",
      "331  Sales Jobs  CD Sales Recruitment          NaN          NaN   \n",
      "\n",
      "                                       FullDescription        Id  \\\n",
      "0    UNK representative medical sales iv access and...  68258565   \n",
      "1    sales UNK medical sales iv access and infusion...  68258565   \n",
      "2    sales representative UNK sales iv access and i...  68258565   \n",
      "3    sales representative medical UNK iv access and...  68258565   \n",
      "4    sales representative medical sales UNK access ...  68258565   \n",
      "5    sales representative medical sales iv UNK and ...  68258565   \n",
      "6    sales representative medical sales iv access U...  68258565   \n",
      "7    sales representative medical sales iv access a...  68258565   \n",
      "8    sales representative medical sales iv access a...  68258565   \n",
      "9    sales representative medical sales iv access a...  68258565   \n",
      "10   sales representative medical sales iv access a...  68258565   \n",
      "11   sales representative medical sales iv access a...  68258565   \n",
      "12   sales representative medical sales iv access a...  68258565   \n",
      "13   sales representative medical sales iv access a...  68258565   \n",
      "14   sales representative medical sales iv access a...  68258565   \n",
      "15   sales representative medical sales iv access a...  68258565   \n",
      "16   sales representative medical sales iv access a...  68258565   \n",
      "17   sales representative medical sales iv access a...  68258565   \n",
      "18   sales representative medical sales iv access a...  68258565   \n",
      "19   sales representative medical sales iv access a...  68258565   \n",
      "20   sales representative medical sales iv access a...  68258565   \n",
      "21   sales representative medical sales iv access a...  68258565   \n",
      "22   sales representative medical sales iv access a...  68258565   \n",
      "23   sales representative medical sales iv access a...  68258565   \n",
      "24   sales representative medical sales iv access a...  68258565   \n",
      "25   sales representative medical sales iv access a...  68258565   \n",
      "26   sales representative medical sales iv access a...  68258565   \n",
      "27   sales representative medical sales iv access a...  68258565   \n",
      "28   sales representative medical sales iv access a...  68258565   \n",
      "29   sales representative medical sales iv access a...  68258565   \n",
      "..                                                 ...       ...   \n",
      "302  sales representative medical sales iv access a...  68258565   \n",
      "303  sales representative medical sales iv access a...  68258565   \n",
      "304  sales representative medical sales iv access a...  68258565   \n",
      "305  sales representative medical sales iv access a...  68258565   \n",
      "306  sales representative medical sales iv access a...  68258565   \n",
      "307  sales representative medical sales iv access a...  68258565   \n",
      "308  sales representative medical sales iv access a...  68258565   \n",
      "309  sales representative medical sales iv access a...  68258565   \n",
      "310  sales representative medical sales iv access a...  68258565   \n",
      "311  sales representative medical sales iv access a...  68258565   \n",
      "312  sales representative medical sales iv access a...  68258565   \n",
      "313  sales representative medical sales iv access a...  68258565   \n",
      "314  sales representative medical sales iv access a...  68258565   \n",
      "315  sales representative medical sales iv access a...  68258565   \n",
      "316  sales representative medical sales iv access a...  68258565   \n",
      "317  sales representative medical sales iv access a...  68258565   \n",
      "318  sales representative medical sales iv access a...  68258565   \n",
      "319  sales representative medical sales iv access a...  68258565   \n",
      "320  sales representative medical sales iv access a...  68258565   \n",
      "321  sales representative medical sales iv access a...  68258565   \n",
      "322  sales representative medical sales iv access a...  68258565   \n",
      "323  sales representative medical sales iv access a...  68258565   \n",
      "324  sales representative medical sales iv access a...  68258565   \n",
      "325  sales representative medical sales iv access a...  68258565   \n",
      "326  sales representative medical sales iv access a...  68258565   \n",
      "327  sales representative medical sales iv access a...  68258565   \n",
      "328  sales representative medical sales iv access a...  68258565   \n",
      "329  sales representative medical sales iv access a...  68258565   \n",
      "330  sales representative medical sales iv access a...  68258565   \n",
      "331  sales representative medical sales iv access a...  68258565   \n",
      "\n",
      "    LocationNormalized    LocationRaw  Log1pSalary  SalaryNormalized  \\\n",
      "0        East Midlands  East Midlands    10.434145             34000   \n",
      "1        East Midlands  East Midlands    10.434145             34000   \n",
      "2        East Midlands  East Midlands    10.434145             34000   \n",
      "3        East Midlands  East Midlands    10.434145             34000   \n",
      "4        East Midlands  East Midlands    10.434145             34000   \n",
      "5        East Midlands  East Midlands    10.434145             34000   \n",
      "6        East Midlands  East Midlands    10.434145             34000   \n",
      "7        East Midlands  East Midlands    10.434145             34000   \n",
      "8        East Midlands  East Midlands    10.434145             34000   \n",
      "9        East Midlands  East Midlands    10.434145             34000   \n",
      "10       East Midlands  East Midlands    10.434145             34000   \n",
      "11       East Midlands  East Midlands    10.434145             34000   \n",
      "12       East Midlands  East Midlands    10.434145             34000   \n",
      "13       East Midlands  East Midlands    10.434145             34000   \n",
      "14       East Midlands  East Midlands    10.434145             34000   \n",
      "15       East Midlands  East Midlands    10.434145             34000   \n",
      "16       East Midlands  East Midlands    10.434145             34000   \n",
      "17       East Midlands  East Midlands    10.434145             34000   \n",
      "18       East Midlands  East Midlands    10.434145             34000   \n",
      "19       East Midlands  East Midlands    10.434145             34000   \n",
      "20       East Midlands  East Midlands    10.434145             34000   \n",
      "21       East Midlands  East Midlands    10.434145             34000   \n",
      "22       East Midlands  East Midlands    10.434145             34000   \n",
      "23       East Midlands  East Midlands    10.434145             34000   \n",
      "24       East Midlands  East Midlands    10.434145             34000   \n",
      "25       East Midlands  East Midlands    10.434145             34000   \n",
      "26       East Midlands  East Midlands    10.434145             34000   \n",
      "27       East Midlands  East Midlands    10.434145             34000   \n",
      "28       East Midlands  East Midlands    10.434145             34000   \n",
      "29       East Midlands  East Midlands    10.434145             34000   \n",
      "..                 ...            ...          ...               ...   \n",
      "302      East Midlands  East Midlands    10.434145             34000   \n",
      "303      East Midlands  East Midlands    10.434145             34000   \n",
      "304      East Midlands  East Midlands    10.434145             34000   \n",
      "305      East Midlands  East Midlands    10.434145             34000   \n",
      "306      East Midlands  East Midlands    10.434145             34000   \n",
      "307      East Midlands  East Midlands    10.434145             34000   \n",
      "308      East Midlands  East Midlands    10.434145             34000   \n",
      "309      East Midlands  East Midlands    10.434145             34000   \n",
      "310      East Midlands  East Midlands    10.434145             34000   \n",
      "311      East Midlands  East Midlands    10.434145             34000   \n",
      "312      East Midlands  East Midlands    10.434145             34000   \n",
      "313      East Midlands  East Midlands    10.434145             34000   \n",
      "314      East Midlands  East Midlands    10.434145             34000   \n",
      "315      East Midlands  East Midlands    10.434145             34000   \n",
      "316      East Midlands  East Midlands    10.434145             34000   \n",
      "317      East Midlands  East Midlands    10.434145             34000   \n",
      "318      East Midlands  East Midlands    10.434145             34000   \n",
      "319      East Midlands  East Midlands    10.434145             34000   \n",
      "320      East Midlands  East Midlands    10.434145             34000   \n",
      "321      East Midlands  East Midlands    10.434145             34000   \n",
      "322      East Midlands  East Midlands    10.434145             34000   \n",
      "323      East Midlands  East Midlands    10.434145             34000   \n",
      "324      East Midlands  East Midlands    10.434145             34000   \n",
      "325      East Midlands  East Midlands    10.434145             34000   \n",
      "326      East Midlands  East Midlands    10.434145             34000   \n",
      "327      East Midlands  East Midlands    10.434145             34000   \n",
      "328      East Midlands  East Midlands    10.434145             34000   \n",
      "329      East Midlands  East Midlands    10.434145             34000   \n",
      "330      East Midlands  East Midlands    10.434145             34000   \n",
      "331      East Midlands  East Midlands    10.434145             34000   \n",
      "\n",
      "                                      SalaryRaw         SourceName  \\\n",
      "0    30000 - 38000 per annum + Company Benefits  salestarget.co.uk   \n",
      "1    30000 - 38000 per annum + Company Benefits  salestarget.co.uk   \n",
      "2    30000 - 38000 per annum + Company Benefits  salestarget.co.uk   \n",
      "3    30000 - 38000 per annum + Company Benefits  salestarget.co.uk   \n",
      "4    30000 - 38000 per annum + Company Benefits  salestarget.co.uk   \n",
      "5    30000 - 38000 per annum + Company Benefits  salestarget.co.uk   \n",
      "6    30000 - 38000 per annum + Company Benefits  salestarget.co.uk   \n",
      "7    30000 - 38000 per annum + Company Benefits  salestarget.co.uk   \n",
      "8    30000 - 38000 per annum + Company Benefits  salestarget.co.uk   \n",
      "9    30000 - 38000 per annum + Company Benefits  salestarget.co.uk   \n",
      "10   30000 - 38000 per annum + Company Benefits  salestarget.co.uk   \n",
      "11   30000 - 38000 per annum + Company Benefits  salestarget.co.uk   \n",
      "12   30000 - 38000 per annum + Company Benefits  salestarget.co.uk   \n",
      "13   30000 - 38000 per annum + Company Benefits  salestarget.co.uk   \n",
      "14   30000 - 38000 per annum + Company Benefits  salestarget.co.uk   \n",
      "15   30000 - 38000 per annum + Company Benefits  salestarget.co.uk   \n",
      "16   30000 - 38000 per annum + Company Benefits  salestarget.co.uk   \n",
      "17   30000 - 38000 per annum + Company Benefits  salestarget.co.uk   \n",
      "18   30000 - 38000 per annum + Company Benefits  salestarget.co.uk   \n",
      "19   30000 - 38000 per annum + Company Benefits  salestarget.co.uk   \n",
      "20   30000 - 38000 per annum + Company Benefits  salestarget.co.uk   \n",
      "21   30000 - 38000 per annum + Company Benefits  salestarget.co.uk   \n",
      "22   30000 - 38000 per annum + Company Benefits  salestarget.co.uk   \n",
      "23   30000 - 38000 per annum + Company Benefits  salestarget.co.uk   \n",
      "24   30000 - 38000 per annum + Company Benefits  salestarget.co.uk   \n",
      "25   30000 - 38000 per annum + Company Benefits  salestarget.co.uk   \n",
      "26   30000 - 38000 per annum + Company Benefits  salestarget.co.uk   \n",
      "27   30000 - 38000 per annum + Company Benefits  salestarget.co.uk   \n",
      "28   30000 - 38000 per annum + Company Benefits  salestarget.co.uk   \n",
      "29   30000 - 38000 per annum + Company Benefits  salestarget.co.uk   \n",
      "..                                          ...                ...   \n",
      "302  30000 - 38000 per annum + Company Benefits  salestarget.co.uk   \n",
      "303  30000 - 38000 per annum + Company Benefits  salestarget.co.uk   \n",
      "304  30000 - 38000 per annum + Company Benefits  salestarget.co.uk   \n",
      "305  30000 - 38000 per annum + Company Benefits  salestarget.co.uk   \n",
      "306  30000 - 38000 per annum + Company Benefits  salestarget.co.uk   \n",
      "307  30000 - 38000 per annum + Company Benefits  salestarget.co.uk   \n",
      "308  30000 - 38000 per annum + Company Benefits  salestarget.co.uk   \n",
      "309  30000 - 38000 per annum + Company Benefits  salestarget.co.uk   \n",
      "310  30000 - 38000 per annum + Company Benefits  salestarget.co.uk   \n",
      "311  30000 - 38000 per annum + Company Benefits  salestarget.co.uk   \n",
      "312  30000 - 38000 per annum + Company Benefits  salestarget.co.uk   \n",
      "313  30000 - 38000 per annum + Company Benefits  salestarget.co.uk   \n",
      "314  30000 - 38000 per annum + Company Benefits  salestarget.co.uk   \n",
      "315  30000 - 38000 per annum + Company Benefits  salestarget.co.uk   \n",
      "316  30000 - 38000 per annum + Company Benefits  salestarget.co.uk   \n",
      "317  30000 - 38000 per annum + Company Benefits  salestarget.co.uk   \n",
      "318  30000 - 38000 per annum + Company Benefits  salestarget.co.uk   \n",
      "319  30000 - 38000 per annum + Company Benefits  salestarget.co.uk   \n",
      "320  30000 - 38000 per annum + Company Benefits  salestarget.co.uk   \n",
      "321  30000 - 38000 per annum + Company Benefits  salestarget.co.uk   \n",
      "322  30000 - 38000 per annum + Company Benefits  salestarget.co.uk   \n",
      "323  30000 - 38000 per annum + Company Benefits  salestarget.co.uk   \n",
      "324  30000 - 38000 per annum + Company Benefits  salestarget.co.uk   \n",
      "325  30000 - 38000 per annum + Company Benefits  salestarget.co.uk   \n",
      "326  30000 - 38000 per annum + Company Benefits  salestarget.co.uk   \n",
      "327  30000 - 38000 per annum + Company Benefits  salestarget.co.uk   \n",
      "328  30000 - 38000 per annum + Company Benefits  salestarget.co.uk   \n",
      "329  30000 - 38000 per annum + Company Benefits  salestarget.co.uk   \n",
      "330  30000 - 38000 per annum + Company Benefits  salestarget.co.uk   \n",
      "331  30000 - 38000 per annum + Company Benefits  salestarget.co.uk   \n",
      "\n",
      "                                       Title  \n",
      "0    sales specialist iv access and infusion  \n",
      "1    sales specialist iv access and infusion  \n",
      "2    sales specialist iv access and infusion  \n",
      "3    sales specialist iv access and infusion  \n",
      "4    sales specialist iv access and infusion  \n",
      "5    sales specialist iv access and infusion  \n",
      "6    sales specialist iv access and infusion  \n",
      "7    sales specialist iv access and infusion  \n",
      "8    sales specialist iv access and infusion  \n",
      "9    sales specialist iv access and infusion  \n",
      "10   sales specialist iv access and infusion  \n",
      "11   sales specialist iv access and infusion  \n",
      "12   sales specialist iv access and infusion  \n",
      "13   sales specialist iv access and infusion  \n",
      "14   sales specialist iv access and infusion  \n",
      "15   sales specialist iv access and infusion  \n",
      "16   sales specialist iv access and infusion  \n",
      "17   sales specialist iv access and infusion  \n",
      "18   sales specialist iv access and infusion  \n",
      "19   sales specialist iv access and infusion  \n",
      "20   sales specialist iv access and infusion  \n",
      "21   sales specialist iv access and infusion  \n",
      "22   sales specialist iv access and infusion  \n",
      "23   sales specialist iv access and infusion  \n",
      "24   sales specialist iv access and infusion  \n",
      "25   sales specialist iv access and infusion  \n",
      "26   sales specialist iv access and infusion  \n",
      "27   sales specialist iv access and infusion  \n",
      "28   sales specialist iv access and infusion  \n",
      "29   sales specialist iv access and infusion  \n",
      "..                                       ...  \n",
      "302  sales specialist iv access and infusion  \n",
      "303  sales specialist iv access and infusion  \n",
      "304  sales specialist iv access and infusion  \n",
      "305  sales specialist iv access and infusion  \n",
      "306  sales specialist iv access and infusion  \n",
      "307  sales specialist iv access and infusion  \n",
      "308  sales specialist iv access and infusion  \n",
      "309  sales specialist iv access and infusion  \n",
      "310  sales specialist iv access and infusion  \n",
      "311  sales specialist iv access and infusion  \n",
      "312  sales specialist iv access and infusion  \n",
      "313  sales specialist iv access and infusion  \n",
      "314  sales specialist iv access and infusion  \n",
      "315  sales specialist iv access and infusion  \n",
      "316  sales specialist iv access and infusion  \n",
      "317  sales specialist iv access and infusion  \n",
      "318  sales specialist iv access and infusion  \n",
      "319  sales specialist iv access and infusion  \n",
      "320  sales specialist iv access and infusion  \n",
      "321  sales specialist iv access and infusion  \n",
      "322  sales specialist iv access and infusion  \n",
      "323  sales specialist iv access and infusion  \n",
      "324  sales specialist iv access and infusion  \n",
      "325  sales specialist iv access and infusion  \n",
      "326  sales specialist iv access and infusion  \n",
      "327  sales specialist iv access and infusion  \n",
      "328  sales specialist iv access and infusion  \n",
      "329  sales specialist iv access and infusion  \n",
      "330  sales specialist iv access and infusion  \n",
      "331  sales specialist iv access and infusion  \n",
      "\n",
      "[332 rows x 13 columns]\n"
     ]
    },
    {
     "name": "stdout",
     "output_type": "stream",
     "text": [
      "9.4961605 9.4961605 9.4961605 9.4961605 9.4961605 9.4961605 9.4961605 9.4961605 9.4961605 9.4961605 9.4961605 9.4961605 9.4961605 9.4961605 9.4961605 9.4961605 9.4961605 9.4961605 9.4961605 9.4961605 9.4961605 9.4961605 9.4961605 9.4961605 9.4961605 9.4961605 9.4961605 9.4961605 9.4961605 9.4961605 9.4961605 9.4961605 9.4961605 9.4961605 9.4961605 9.4961605 9.4961605 9.4961605 9.4961605 9.4961605 9.4961605 9.4961605 9.4961605 9.4961605 9.4961605 9.4961605 9.4961605 9.4961605 9.4961605 9.4961605 9.4961605 9.4961605 9.4961605 9.4961605 9.4961605 9.4961605 9.4961605 9.4961605 9.4961605 9.4961605 9.4961605 9.4961605 9.4961605 9.4961605 9.4961605 9.4961605 9.4961605 9.4961605 9.4961605 9.4961605 9.4961605 9.4961605 9.4961605 9.4961605 9.4961605 9.4961605 9.4961605 9.4961605 9.4961605 9.4961605 9.4961605 9.4961605 9.4961605 9.4961605 9.4961605 9.4961605 9.4961605 9.4961605 9.4961605 9.4961605 9.4961605 9.4961605 9.4961605 9.4961605 9.4961605 9.4961605 9.4961605 9.4961605 9.4961605 9.4961605 9.4961605 9.4961605 9.4961605 9.4961605 9.4961605 9.4961605 9.4961605 9.4961605 9.4961605 9.4961605 9.4961605 9.4961605 9.4961605 9.4961605 9.4961605 9.4961605 9.4961605 9.4961605 9.4961605 9.4961605 9.4961605 9.4961605 9.4961605 9.4961605 9.4961605 9.4961605 9.4961605 9.4961605 9.4961605 9.4961605 9.4961605 9.4961605 9.4961605 9.4961605 9.4961605 9.4961605 9.4961605 9.4961605 9.4961605 9.4961605 9.4961605 9.4961605 9.4961605 9.4961605 9.4961605 9.4961605 9.4961605 9.4961605 9.4961605 9.4961605 9.4961605 9.4961605 9.4961605 9.4961605 9.4961605 9.4961605 9.4961605 9.4961605 9.4961605 9.4961605 9.4961605 9.4961605 9.4961605 9.4961605 9.4961605 9.4961605 9.4961605 9.4961605 9.4961605 9.4961605 9.4961605 9.4961605 9.4961605 9.4961605 9.4961605 9.4961605 9.4961605 9.4961605 9.4961605 9.4961605 9.4961605 9.4961605 9.4961605 9.4961605 9.4961605 9.4961605 9.4961605 9.4961605 9.4961605 9.4961605 9.4961605 9.4961605 9.4961605 9.4961605 9.4961605 9.4961605 9.4961605 9.4961605 9.4961605 9.4961605 9.4961605 9.4961605 9.4961605 9.4961605 9.4961605 9.4961605 9.4961605 9.4961605 9.4961605 9.4961605 9.4961605 9.4961605 9.4961605 9.4961605 9.4961605 9.4961605 9.4961605 9.4961605 9.4961605 9.4961605 9.4961605 9.4961605 9.4961605 9.4961605 9.4961605 9.4961605 9.4961605 9.4961605 9.4961605 9.4961605 9.4961605 9.4961605 9.4961605 9.4961605 9.4961605 9.4961605 9.4961605 9.4961605 9.4961605 9.4961605 9.4961605 9.4961605 9.4961605 9.4961605 9.4961605 9.4961605 9.4961605 9.4961605 9.4961605 9.4961605 9.4961605 9.4961605 9.4961605 9.4961605 9.4961605 9.4961605 9.4961605 9.4961605 9.4961605 9.4961605 9.4961605 9.4961605 9.4961605 9.4961605 9.4961605 9.4961605 9.4961605 9.4961605 9.4961605 9.4961605 9.4961605 9.4961605 9.4961605 9.4961605 9.4961605 9.4961605 9.4961605 9.4961605 9.4961605 9.4961605 9.4961605 9.4961605 9.4961605 9.4961605 9.4961605 9.4961605 9.4961605 9.4961605 9.4961605 9.4961605 9.4961605 9.4961605 9.4961605 9.4961605 9.4961605 9.4961605 9.4961605 9.4961605 9.4961605 9.4961605 9.4961605 9.4961605 9.4961605 9.4961605 9.4961605 9.4961605 9.4961605 9.4961605 9.4961605 9.4961605 9.4961605 9.4961605 9.4961605 9.4961605 9.4961605 9.4961605 9.4961605 9.4961605 9.4961605 9.4961605 9.4961605 9.4961605 9.4961605 9.4961605 9.4961605 9.4961605 9.4961605 9.4961605 9.4961605 9.4961605 9.4961605\n",
      "9.4961605\n"
     ]
    },
    {
     "data": {
      "text/html": [
       "<p style=\"font-size:14px;\"><span style=\"background-color: #FFFEFE\">sales</span> <span style=\"background-color: #FFFEFE\">representative</span> <span style=\"background-color: #FFFEFE\">medical</span> <span style=\"background-color: #FFFEFE\">sales</span> <span style=\"background-color: #FFFEFE\">iv</span> <span style=\"background-color: #FFFEFE\">access</span> <span style=\"background-color: #FFFEFE\">and</span> <span style=\"background-color: #FFFEFE\">infusion</span> <span style=\"background-color: #FFFEFE\">an</span> <span style=\"background-color: #FFFEFE\">opportunity</span> <span style=\"background-color: #FFFEFE\">to</span> <span style=\"background-color: #FFFEFE\">work</span> <span style=\"background-color: #FFFEFE\">for</span> <span style=\"background-color: #FFFEFE\">the</span> <span style=\"background-color: #FFFEFE\">industry</span> <span style=\"background-color: #FFFEFE\">leading</span> <span style=\"background-color: #FFFEFE\">manufacturer</span> <span style=\"background-color: #FFFEFE\">of</span> <span style=\"background-color: #FFFEFE\">iv</span> <span style=\"background-color: #FFFEFE\">access</span> <span style=\"background-color: #FFFEFE\">and</span> <span style=\"background-color: #FFFEFE\">infusion</span> <span style=\"background-color: #FFFEFE\">solutions</span> <span style=\"background-color: #FFFEFE\">.</span> <span style=\"background-color: #FFFEFE\">formally</span> <span style=\"background-color: #FFFEFE\">recognised</span> <span style=\"background-color: #FFFEFE\">as</span> <span style=\"background-color: #FFFEFE\">the</span> <span style=\"background-color: #FFFEFE\">number</span> <span style=\"background-color: #FFFEFE\">****</span> <span style=\"background-color: #FFFEFE\">company</span> <span style=\"background-color: #FFFEFE\">in</span> <span style=\"background-color: #FFFEFE\">this</span> <span style=\"background-color: #FFFEFE\">market</span> <span style=\"background-color: #FFFEFE\">space</span> <span style=\"background-color: #FFFEFE\">,</span> <span style=\"background-color: #FFFEFE\">our</span> <span style=\"background-color: #FFFEFE\">client</span> <span style=\"background-color: #FFFEFE\">are</span> <span style=\"background-color: #FFFEFE\">an</span> <span style=\"background-color: #FFFEFE\">ethical</span> <span style=\"background-color: #FFFEFE\">and</span> <span style=\"background-color: #FFFEFE\">dynamic</span> <span style=\"background-color: #FFFEFE\">organisation</span> <span style=\"background-color: #FFFEFE\">absolutely</span> <span style=\"background-color: #FFFEFE\">committed</span> <span style=\"background-color: #FFFEFE\">to</span> <span style=\"background-color: #FFFEFE\">the</span> <span style=\"background-color: #FFFEFE\">advancement</span> <span style=\"background-color: #FFFEFE\">of</span> <span style=\"background-color: #FFFEFE\">innovative</span> <span style=\"background-color: #FFFEFE\">technologies</span> <span style=\"background-color: #FFFEFE\">.</span> <span style=\"background-color: #FFFEFE\">job</span> <span style=\"background-color: #FFFEFE\">title</span> <span style=\"background-color: #FFFEFE\">:</span> <span style=\"background-color: #FFFEFE\">sales</span> <span style=\"background-color: #FFFEFE\">specialist</span> <span style=\"background-color: #FFFEFE\">iv</span> <span style=\"background-color: #FFFEFE\">access</span> <span style=\"background-color: #FFFEFE\">and</span> <span style=\"background-color: #FFFEFE\">infusion</span> <span style=\"background-color: #FFFEFE\">selling</span> <span style=\"background-color: #FFFEFE\">:</span> <span style=\"background-color: #FFFEFE\">medication</span> <span style=\"background-color: #FFFEFE\">delivery</span> <span style=\"background-color: #FFFEFE\">solutions</span> <span style=\"background-color: #FFFEFE\">selling</span> <span style=\"background-color: #FFFEFE\">to</span> <span style=\"background-color: #FFFEFE\">:</span> <span style=\"background-color: #FFFEFE\">iv</span> <span style=\"background-color: #FFFEFE\">teams</span> <span style=\"background-color: #FFFEFE\">,</span> <span style=\"background-color: #FFFEFE\">infection</span> <span style=\"background-color: #FFFEFE\">control</span> <span style=\"background-color: #FFFEFE\">,</span> <span style=\"background-color: #FFFEFE\">lead</span> <span style=\"background-color: #FFFEFE\">intensive</span> <span style=\"background-color: #FFFEFE\">care</span> <span style=\"background-color: #FFFEFE\">nurse</span> <span style=\"background-color: #FFFEFE\">specialists</span> <span style=\"background-color: #FFFEFE\">,</span> <span style=\"background-color: #FFFEFE\">ward</span> <span style=\"background-color: #FFFEFE\">managers</span> <span style=\"background-color: #FFFEFE\">territory</span> <span style=\"background-color: #FFFEFE\">:</span> <span style=\"background-color: #FFFEFE\">east</span> <span style=\"background-color: #FFFEFE\">midlands</span> <span style=\"background-color: #FFFEFE\">location</span> <span style=\"background-color: #FFFEFE\">:</span> <span style=\"background-color: #FFFEFE\">east</span> <span style=\"background-color: #FFFEFE\">midlands</span> <span style=\"background-color: #FFFEFE\">package</span> <span style=\"background-color: #FFFEFE\">:</span> <span style=\"background-color: #FFFEFE\">basic</span> <span style=\"background-color: #FFFEFE\">:</span> <span style=\"background-color: #FFFEFE\">****</span> <span style=\"background-color: #FFFEFE\">k</span> <span style=\"background-color: #FFFEFE\">****</span> <span style=\"background-color: #FFFEFE\">k</span> <span style=\"background-color: #FFFEFE\">,</span> <span style=\"background-color: #FFFEFE\">uncapped</span> <span style=\"background-color: #FFFEFE\">bonus</span> <span style=\"background-color: #FFFEFE\">in</span> <span style=\"background-color: #FFFEFE\">addition</span> <span style=\"background-color: #FFFEFE\">,</span> <span style=\"background-color: #FFFEFE\">full</span> <span style=\"background-color: #FFFEFE\">corporate</span> <span style=\"background-color: #FFFEFE\">benefits</span> <span style=\"background-color: #FFFEFE\">company</span> <span style=\"background-color: #FFFEFE\">information</span> <span style=\"background-color: #FFFEFE\">hugely</span> <span style=\"background-color: #FFFEFE\">ethical</span> <span style=\"background-color: #FFFEFE\">and</span> <span style=\"background-color: #FFFEFE\">professional</span> <span style=\"background-color: #FFFEFE\">global</span> <span style=\"background-color: #FFFEFE\">organisation</span> <span style=\"background-color: #FFFEFE\">extremely</span> <span style=\"background-color: #FFFEFE\">well</span> <span style=\"background-color: #FFFEFE\">established</span> <span style=\"background-color: #FFFEFE\">in</span> <span style=\"background-color: #FFFEFE\">the</span> <span style=\"background-color: #FFFEFE\">uk</span> <span style=\"background-color: #FFFEFE\">the</span> <span style=\"background-color: #FFFEFE\">market</span> <span style=\"background-color: #FFFEFE\">leader</span> <span style=\"background-color: #FFFEFE\">across</span> <span style=\"background-color: #FFFEFE\">all</span> <span style=\"background-color: #FFFEFE\">of</span> <span style=\"background-color: #FFFEFE\">their</span> <span style=\"background-color: #FFFEFE\">core</span> <span style=\"background-color: #FFFEFE\">business</span> <span style=\"background-color: #FFFEFE\">areas</span> <span style=\"background-color: #FFFEFE\">focus</span> <span style=\"background-color: #FFFEFE\">on</span> <span style=\"background-color: #FFFEFE\">providing</span> <span style=\"background-color: #FFFEFE\">cutting</span> <span style=\"background-color: #FFFEFE\">edge</span> <span style=\"background-color: #FFFEFE\">solutions</span> <span style=\"background-color: #FFFEFE\">along</span> <span style=\"background-color: #FFFEFE\">with</span> <span style=\"background-color: #FFFEFE\">outstanding</span> <span style=\"background-color: #FFFEFE\">service</span> <span style=\"background-color: #FFFEFE\">and</span> <span style=\"background-color: #FFFEFE\">support</span> <span style=\"background-color: #FFFEFE\">a</span> <span style=\"background-color: #FFFEFE\">business</span> <span style=\"background-color: #FFFEFE\">that</span> <span style=\"background-color: #FFFEFE\">retain</span> <span style=\"background-color: #FFFEFE\">talented</span> <span style=\"background-color: #FFFEFE\">personnel</span> <span style=\"background-color: #FFFEFE\">by</span> <span style=\"background-color: #FFFEFE\">offering</span> <span style=\"background-color: #FFFEFE\">a</span> <span style=\"background-color: #FFFEFE\">strong</span> <span style=\"background-color: #FFFEFE\">platform</span> <span style=\"background-color: #FFFEFE\">for</span> <span style=\"background-color: #FFFEFE\">career</span> <span style=\"background-color: #FFFEFE\">development</span> <span style=\"background-color: #FFFEFE\">sales</span> <span style=\"background-color: #FFFEFE\">specialist</span> <span style=\"background-color: #FFFEFE\">iv</span> <span style=\"background-color: #FFFEFE\">access</span> <span style=\"background-color: #FFFEFE\">and</span> <span style=\"background-color: #FFFEFE\">infusion</span> <span style=\"background-color: #FFFEFE\">you</span> <span style=\"background-color: #FFFEFE\">must</span> <span style=\"background-color: #FFFEFE\">have</span> <span style=\"background-color: #FFFEFE\">/</span> <span style=\"background-color: #FFFEFE\">be</span> <span style=\"background-color: #FFFEFE\">the</span> <span style=\"background-color: #FFFEFE\">following</span> <span style=\"background-color: #FFFEFE\">at</span> <span style=\"background-color: #FFFEFE\">least</span> <span style=\"background-color: #FFFEFE\">2</span> <span style=\"background-color: #FFFEFE\">years</span> <span style=\"background-color: #FFFEFE\">medical</span> <span style=\"background-color: #FFFEFE\">device</span> <span style=\"background-color: #FFFEFE\">sales</span> <span style=\"background-color: #FFFEFE\">experience</span> <span style=\"background-color: #FFFEFE\">.</span> <span style=\"background-color: #FFFEFE\">candidates</span> <span style=\"background-color: #FFFEFE\">who</span> <span style=\"background-color: #FFFEFE\">have</span> <span style=\"background-color: #FFFEFE\">sold</span> <span style=\"background-color: #FFFEFE\">disposables</span> <span style=\"background-color: #FFFEFE\">/</span> <span style=\"background-color: #FFFEFE\">consumables</span> <span style=\"background-color: #FFFEFE\">or</span> <span style=\"background-color: #FFFEFE\">similar</span> <span style=\"background-color: #FFFEFE\">into</span> <span style=\"background-color: #FFFEFE\">hospitals</span> <span style=\"background-color: #FFFEFE\">would</span> <span style=\"background-color: #FFFEFE\">be</span> <span style=\"background-color: #FFFEFE\">of</span> <span style=\"background-color: #FFFEFE\">particular</span> <span style=\"background-color: #FFFEFE\">interest</span> <span style=\"background-color: #FFFEFE\">.</span> <span style=\"background-color: #FFFEFE\">candidates</span> <span style=\"background-color: #FFFEFE\">must</span> <span style=\"background-color: #FFFEFE\">have</span> <span style=\"background-color: #FFFEFE\">sold</span> <span style=\"background-color: #FFFEFE\">into</span> <span style=\"background-color: #FFFEFE\">hospitals</span> <span style=\"background-color: #FFFEFE\">demonstrable</span> <span style=\"background-color: #FFFEFE\">performance</span> <span style=\"background-color: #FFFEFE\">and</span> <span style=\"background-color: #FFFEFE\">achievements</span> <span style=\"background-color: #FFFEFE\">so</span> <span style=\"background-color: #FFFEFE\">far</span> <span style=\"background-color: #FFFEFE\">personable</span> <span style=\"background-color: #FFFEFE\">,</span> <span style=\"background-color: #FFFEFE\">adaptable</span> <span style=\"background-color: #FFFEFE\">and</span> <span style=\"background-color: #FFFEFE\">willing</span> <span style=\"background-color: #FFFEFE\">to</span> <span style=\"background-color: #FFFEFE\">learn</span> <span style=\"background-color: #FFFEFE\">keen</span> <span style=\"background-color: #FFFEFE\">and</span> <span style=\"background-color: #FFFEFE\">eager</span> <span style=\"background-color: #FFFEFE\">to</span> <span style=\"background-color: #FFFEFE\">be</span> <span style=\"background-color: #FFFEFE\">a</span> <span style=\"background-color: #FFFEFE\">success</span> <span style=\"background-color: #FFFEFE\">candidates</span> <span style=\"background-color: #FFFEFE\">must</span> <span style=\"background-color: #FFFEFE\">have</span> <span style=\"background-color: #FFFEFE\">a</span> <span style=\"background-color: #FFFEFE\">degree</span> <span style=\"background-color: #FFFEFE\">or</span> <span style=\"background-color: #FFFEFE\">at</span> <span style=\"background-color: #FFFEFE\">least</span> <span style=\"background-color: #FFFEFE\">be</span> <span style=\"background-color: #FFFEFE\">able</span> <span style=\"background-color: #FFFEFE\">to</span> <span style=\"background-color: #FFFEFE\">show</span> <span style=\"background-color: #FFFEFE\">a</span> <span style=\"background-color: #FFFEFE\">strong</span> <span style=\"background-color: #FFFEFE\">ability</span> <span style=\"background-color: #FFFEFE\">to</span> <span style=\"background-color: #FFFEFE\">learn</span> <span style=\"background-color: #FFFEFE\">role</span> <span style=\"background-color: #FFFEFE\">information</span> <span style=\"background-color: #FFFEFE\">managing</span> <span style=\"background-color: #FFFEFE\">the</span> <span style=\"background-color: #FFFEFE\">east</span> <span style=\"background-color: #FFFEFE\">midlands</span> <span style=\"background-color: #FFFEFE\">region</span> <span style=\"background-color: #FFFEFE\">selling</span> <span style=\"background-color: #FFFEFE\">across</span> <span style=\"background-color: #FFFEFE\">the</span> <span style=\"background-color: #FFFEFE\">company</span> <span style=\"background-color: #FFFEFE\">'</span> <span style=\"background-color: #FFFEFE\">s</span> <span style=\"background-color: #FFFEFE\">range</span> <span style=\"background-color: #FFFEFE\">of</span> <span style=\"background-color: #FFFEFE\">iv</span> <span style=\"background-color: #FFFEFE\">and</span> <span style=\"background-color: #FFFEFE\">infusion</span> <span style=\"background-color: #FFFEFE\">solutions</span> <span style=\"background-color: #FFFEFE\">portfolio</span> <span style=\"background-color: #FFFEFE\">selling</span> <span style=\"background-color: #FFFEFE\">into</span> <span style=\"background-color: #FFFEFE\">lead</span> <span style=\"background-color: #FFFEFE\">intensive</span> <span style=\"background-color: #FFFEFE\">care</span> <span style=\"background-color: #FFFEFE\">nurse</span> <span style=\"background-color: #FFFEFE\">specialists</span> <span style=\"background-color: #FFFEFE\">,</span> <span style=\"background-color: #FFFEFE\">ward</span> <span style=\"background-color: #FFFEFE\">managers</span> <span style=\"background-color: #FFFEFE\">,</span> <span style=\"background-color: #FFFEFE\">iv</span> <span style=\"background-color: #FFFEFE\">teams</span> <span style=\"background-color: #FFFEFE\">,</span> <span style=\"background-color: #FFFEFE\">infection</span> <span style=\"background-color: #FFFEFE\">control</span> <span style=\"background-color: #FFFEFE\">teams</span> <span style=\"background-color: #FFFEFE\">,</span> <span style=\"background-color: #FFFEFE\">procurement</span> <span style=\"background-color: #FFFEFE\">sales</span> <span style=\"background-color: #FFFEFE\">specialist</span> <span style=\"background-color: #FFFEFE\">iv</span> <span style=\"background-color: #FFFEFE\">access</span> <span style=\"background-color: #FFFEFE\">and</span> <span style=\"background-color: #FFFEFE\">infusion</span> <span style=\"background-color: #FFFEFE\">candidates</span> <span style=\"background-color: #FFFEFE\">must</span> <span style=\"background-color: #FFFEFE\">be</span> <span style=\"background-color: #FFFEFE\">eligible</span> <span style=\"background-color: #FFFEFE\">to</span> <span style=\"background-color: #FFFEFE\">work</span> <span style=\"background-color: #FFFEFE\">and</span> <span style=\"background-color: #FFFEFE\">live</span> <span style=\"background-color: #FFFEFE\">in</span> <span style=\"background-color: #FFFEFE\">the</span> <span style=\"background-color: #FFFEFE\">uk</span> <span style=\"background-color: #FFFEFE\">.</span> <span style=\"background-color: #FFFEFE\">please</span> <span style=\"background-color: #FFFEFE\">contact</span> <span style=\"background-color: #FFFEFE\">allan</span> <span style=\"background-color: #FFFEFE\">waller</span> <span style=\"background-color: #FFFEFE\">on</span> <span style=\"background-color: #FFFEFE\">****</span> <span style=\"background-color: #FFFEFE\">****</span> <span style=\"background-color: #FFFEFE\">****</span> <span style=\"background-color: #FFFEFE\">or</span> <span style=\"background-color: #FFFEFE\">please</span> <span style=\"background-color: #FFFEFE\">hit</span> <span style=\"background-color: #FFFEFE\">the</span> <span style=\"background-color: #FFFEFE\">apply</span> <span style=\"background-color: #FFFEFE\">button</span> <span style=\"background-color: #FFFEFE\">.</span> <span style=\"background-color: #FFFEFE\">this</span> <span style=\"background-color: #FFFEFE\">job</span> <span style=\"background-color: #FFFEFE\">was</span> <span style=\"background-color: #FFFEFE\">originally</span> <span style=\"background-color: #FFFEFE\">posted</span> <span style=\"background-color: #FFFEFE\">as</span> <span style=\"background-color: #FFFEFE\">www</span> <span style=\"background-color: #FFFEFE\">.</span> <span style=\"background-color: #FFFEFE\">salestarget</span> <span style=\"background-color: #FFFEFE\">.</span> <span style=\"background-color: #FFFEFE\">co</span> <span style=\"background-color: #FFFEFE\">.</span> <span style=\"background-color: #FFFEFE\">uk</span> <span style=\"background-color: #FFFEFE\">/</span> <span style=\"background-color: #FFFEFE\">jobseeking</span> <span style=\"background-color: #FFFEFE\">/</span> <span style=\"background-color: #FFFEFE\">UNK</span> <span style=\"background-color: #FFFEFE\">****</span></p>"
      ]
     },
     "metadata": {},
     "output_type": "display_data"
    }
   ],
   "source": [
    "i = 36605\n",
    "tokens_and_weights = explain(model, data.loc[i], \"Title\")\n",
    "draw_html([(tok, weight * 5) for tok, weight in tokens_and_weights], font_style='font-size:20px;');\n",
    "\n",
    "tokens_and_weights = explain(model, data.loc[i], \"FullDescription\")\n",
    "draw_html([(tok, weight * 10) for tok, weight in tokens_and_weights]);"
   ]
  },
  {
   "cell_type": "code",
   "execution_count": 70,
   "metadata": {},
   "outputs": [
    {
     "data": {
      "text/html": [
       "<p style=\"font-size:20px;\"><span style=\"background-color: #FF0606\">cleaning</span> <span style=\"background-color: #FF0C0C\">operative</span></p>"
      ]
     },
     "metadata": {},
     "output_type": "display_data"
    },
    {
     "data": {
      "text/html": [
       "<p style=\"font-size:14px;\"><span style=\"background-color: #FFFEFE\">12</span> <span style=\"background-color: #FFFEFE\">.</span> <span style=\"background-color: #FFFEFE\">5</span> <span style=\"background-color: #FFFEFE\">hours</span> <span style=\"background-color: #D3D3FF\">per</span> <span style=\"background-color: #0202FF\">week</span> <span style=\"background-color: #FFFEFE\">monday</span> <span style=\"background-color: #FFFEFE\">friday</span> <span style=\"background-color: #FFFEFE\">9am</span> <span style=\"background-color: #FFFEFE\">11</span> <span style=\"background-color: #FFFEFE\">.</span> <span style=\"background-color: #FFFEFE\">30am</span> <span style=\"background-color: #FF4949\">duties</span> <span style=\"background-color: #FFFEFE\">to</span> <span style=\"background-color: #FFFEFE\">include</span> <span style=\"background-color: #FF7171\">sweeping</span> <span style=\"background-color: #FFFEFE\">,</span> <span style=\"background-color: #FF7171\">mopping</span> <span style=\"background-color: #FFFEFE\">,</span> <span style=\"background-color: #FF7171\">vacuuming</span> <span style=\"background-color: #FFFEFE\">,</span> <span style=\"background-color: #FF7171\">buffing</span> <span style=\"background-color: #FFFEFE\">,</span> <span style=\"background-color: #FFFEFE\">cleaning</span> <span style=\"background-color: #FFFEFE\">staff</span> <span style=\"background-color: #FF5E5E\">toilets</span> <span style=\"background-color: #FFFEFE\">and</span> <span style=\"background-color: #FFFEFE\">rest</span> <span style=\"background-color: #FFFEFE\">room</span> <span style=\"background-color: #FFFEFE\">.</span> <span style=\"background-color: #FFFEFE\">must</span> <span style=\"background-color: #FFFEFE\">be</span> <span style=\"background-color: #FF4949\">able</span> <span style=\"background-color: #FFFEFE\">to</span> <span style=\"background-color: #FFFEFE\">read</span> <span style=\"background-color: #FFFEFE\">as</span> <span style=\"background-color: #FFFEFE\">they</span> <span style=\"background-color: #FFFEFE\">will</span> <span style=\"background-color: #FFFEFE\">be</span> <span style=\"background-color: #FFFEFE\">using</span> <span style=\"background-color: #FFFEFE\">UNK</span> <span style=\"background-color: #FFFEFE\">which</span> <span style=\"background-color: #FFFEFE\">need</span> <span style=\"background-color: #FFFEFE\">UNK</span> <span style=\"background-color: #FFFEFE\">as</span> <span style=\"background-color: #FFFEFE\">per</span> <span style=\"background-color: #FFB3B3\">instructions</span> <span style=\"background-color: #FF4E4E\">on</span> <span style=\"background-color: #FFFEFE\">the</span> <span style=\"background-color: #FFFEFE\">containers</span> <span style=\"background-color: #FFFEFE\">.</span> <span style=\"background-color: #FFFEFE\">sucessfull</span> <span style=\"background-color: #FFFEFE\">applicants</span> <span style=\"background-color: #FFFEFE\">will</span> <span style=\"background-color: #FFFEFE\">be</span> <span style=\"background-color: #FFB3B3\">trained</span> <span style=\"background-color: #FFFEFE\">on</span> <span style=\"background-color: #FFFEFE\">all</span> <span style=\"background-color: #FFFEFE\">electrical</span> <span style=\"background-color: #FF5E5E\">appliances</span> <span style=\"background-color: #FFFEFE\">and</span> <span style=\"background-color: #FFFEFE\">UNK</span> <span style=\"background-color: #FFFEFE\">of</span> <span style=\"background-color: #FFFEFE\">cleaning</span> <span style=\"background-color: #FFFEFE\">materials</span> <span style=\"background-color: #FFFEFE\">.</span></p>"
      ]
     },
     "metadata": {},
     "output_type": "display_data"
    }
   ],
   "source": [
    "i = 12077\n",
    "tokens_and_weights = explain(model, data.loc[i], \"Title\")\n",
    "draw_html([(tok, weight * 5) for tok, weight in tokens_and_weights], font_style='font-size:20px;');\n",
    "\n",
    "tokens_and_weights = explain(model, data.loc[i], \"FullDescription\")\n",
    "draw_html([(tok, weight * 10) for tok, weight in tokens_and_weights]);"
   ]
  },
  {
   "cell_type": "code",
   "execution_count": 71,
   "metadata": {},
   "outputs": [
    {
     "name": "stdout",
     "output_type": "stream",
     "text": [
      "Index: 213692\n",
      "Salary (gbp): 3618.3054\n"
     ]
    },
    {
     "data": {
      "text/html": [
       "<p style=\"font-size:20px;\"><span style=\"background-color: #FF1111\">freelance</span> <span style=\"background-color: #FF0606\">ux</span> <span style=\"background-color: #FF0C0C\">designer</span> <span style=\"background-color: #FF1010\">paris</span></p>"
      ]
     },
     "metadata": {},
     "output_type": "display_data"
    },
    {
     "data": {
      "text/html": [
       "<p style=\"font-size:14px;\"><span style=\"background-color: #FFFEFE\">an</span> <span style=\"background-color: #FFFEFE\">urgent</span> <span style=\"background-color: #FFFEFE\">requirement</span> <span style=\"background-color: #FFFEFE\">for</span> <span style=\"background-color: #FFFEFE\">a</span> <span style=\"background-color: #FFFEFE\">ux</span> <span style=\"background-color: #FFFEFE\">designer</span> <span style=\"background-color: #FFFEFE\">to</span> <span style=\"background-color: #FFFEFE\">work</span> <span style=\"background-color: #FFFEFE\">directly</span> <span style=\"background-color: #FFFEFE\">client</span> <span style=\"background-color: #FFFEFE\">side</span> <span style=\"background-color: #FFFEFE\">in</span> <span style=\"background-color: #FFFEFE\">paris</span> <span style=\"background-color: #FFFEFE\">for</span> <span style=\"background-color: #FFFEFE\">6</span> <span style=\"background-color: #FFFEFE\">months</span> <span style=\"background-color: #FFFEFE\">.</span> <span style=\"background-color: #FFFEFE\">ideally</span> <span style=\"background-color: #FFFEFE\">,</span> <span style=\"background-color: #FFFEFE\">the</span> <span style=\"background-color: #FFFEFE\">successful</span> <span style=\"background-color: #FFFEFE\">ux</span> <span style=\"background-color: #FFFEFE\">designer</span> <span style=\"background-color: #FFFEFE\">will</span> <span style=\"background-color: #FFFEFE\">come</span> <span style=\"background-color: #FFFEFE\">from</span> <span style=\"background-color: #FFFEFE\">an</span> <span style=\"background-color: #FFFEFE\">agency</span> <span style=\"background-color: #FFFEFE\">background</span> <span style=\"background-color: #FFFEFE\">,</span> <span style=\"background-color: #FFFEFE\">we</span> <span style=\"background-color: #FFFEFE\">are</span> <span style=\"background-color: #FFFEFE\">looking</span> <span style=\"background-color: #FFFEFE\">for</span> <span style=\"background-color: #FFFEFE\">a</span> <span style=\"background-color: #FFFEFE\">ux</span> <span style=\"background-color: #FFFEFE\">UNK</span> <span style=\"background-color: #FFFEFE\">/</span> <span style=\"background-color: #FFFEFE\">ia</span> <span style=\"background-color: #FFFEFE\">who</span> <span style=\"background-color: #FFFEFE\">is</span> <span style=\"background-color: #FFFEFE\">comfortable</span> <span style=\"background-color: #FFFEFE\">with</span> <span style=\"background-color: #FFFEFE\">handling</span> <span style=\"background-color: #FFFEFE\">a</span> <span style=\"background-color: #FFFEFE\">variety</span> <span style=\"background-color: #FFFEFE\">of</span> <span style=\"background-color: #FFFEFE\">projects</span> <span style=\"background-color: #FFFEFE\">.</span> <span style=\"background-color: #FFFEFE\">there</span> <span style=\"background-color: #FFFEFE\">will</span> <span style=\"background-color: #FFFEFE\">be</span> <span style=\"background-color: #FFFEFE\">times</span> <span style=\"background-color: #FFFEFE\">when</span> <span style=\"background-color: #FFFEFE\">you</span> <span style=\"background-color: #FFFEFE\">'</span> <span style=\"background-color: #FFFEFE\">ll</span> <span style=\"background-color: #FFFEFE\">be</span> <span style=\"background-color: #FFFEFE\">working</span> <span style=\"background-color: #FFFEFE\">from</span> <span style=\"background-color: #FFFEFE\">limited</span> <span style=\"background-color: #FFFEFE\">details</span> <span style=\"background-color: #FFFEFE\">in</span> <span style=\"background-color: #FFFEFE\">a</span> <span style=\"background-color: #FFFEFE\">UNK</span> <span style=\"background-color: #FFFEFE\">which</span> <span style=\"background-color: #FFFEFE\">is</span> <span style=\"background-color: #FFFEFE\">not</span> <span style=\"background-color: #FFFEFE\">out</span> <span style=\"background-color: #FFFEFE\">of</span> <span style=\"background-color: #FFFEFE\">the</span> <span style=\"background-color: #FFFEFE\">ordinary</span> <span style=\"background-color: #FFFEFE\">for</span> <span style=\"background-color: #FFFEFE\">designers</span> <span style=\"background-color: #FFFEFE\">who</span> <span style=\"background-color: #FFFEFE\">'</span> <span style=\"background-color: #FFFEFE\">ve</span> <span style=\"background-color: #FFFEFE\">worked</span> <span style=\"background-color: #FFFEFE\">in</span> <span style=\"background-color: #FFFEFE\">the</span> <span style=\"background-color: #FFFEFE\">ux</span> <span style=\"background-color: #FFFEFE\">agency</span> <span style=\"background-color: #FFFEFE\">environments</span> <span style=\"background-color: #FFFEFE\">.</span> <span style=\"background-color: #FFFEFE\">we</span> <span style=\"background-color: #FFFEFE\">are</span> <span style=\"background-color: #FFFEFE\">seeking</span> <span style=\"background-color: #FFFEFE\">ux</span> <span style=\"background-color: #FFFEFE\">designers</span> <span style=\"background-color: #FFFEFE\">who</span> <span style=\"background-color: #FFFEFE\">are</span> <span style=\"background-color: #FFFEFE\">comfortable</span> <span style=\"background-color: #FFFEFE\">in</span> <span style=\"background-color: #FFFEFE\">a</span> <span style=\"background-color: #FFFEFE\">fast</span> <span style=\"background-color: #FFFEFE\">paced</span> <span style=\"background-color: #FFFEFE\">environment</span> <span style=\"background-color: #FFFEFE\">.</span> <span style=\"background-color: #FFFEFE\">will</span> <span style=\"background-color: #FFFEFE\">be</span> <span style=\"background-color: #FFFEFE\">a</span> <span style=\"background-color: #FFFEFE\">chance</span> <span style=\"background-color: #FFFEFE\">to</span> <span style=\"background-color: #FFFEFE\">work</span> <span style=\"background-color: #FFFEFE\">in</span> <span style=\"background-color: #FFFEFE\">a</span> <span style=\"background-color: #FFFEFE\">great</span> <span style=\"background-color: #FFFEFE\">city</span> <span style=\"background-color: #FFFEFE\">,</span> <span style=\"background-color: #FFFEFE\">directly</span> <span style=\"background-color: #FFFEFE\">client</span> <span style=\"background-color: #FFFEFE\">side</span> <span style=\"background-color: #FFFEFE\">for</span> <span style=\"background-color: #FFFEFE\">6</span> <span style=\"background-color: #FFFEFE\">months</span> <span style=\"background-color: #FFFEFE\">.</span> <span style=\"background-color: #FFFEFE\">ux</span> <span style=\"background-color: #FFFEFE\">designers</span> <span style=\"background-color: #FFFEFE\">with</span> <span style=\"background-color: #FFFEFE\">a</span> <span style=\"background-color: #FFFEFE\">foundation</span> <span style=\"background-color: #FFFEFE\">in</span> <span style=\"background-color: #FFFEFE\">research</span> <span style=\"background-color: #FFFEFE\">experience</span> <span style=\"background-color: #FFFEFE\">and</span> <span style=\"background-color: #FFFEFE\">gone</span> <span style=\"background-color: #FFFEFE\">into</span> <span style=\"background-color: #FFFEFE\">a</span> <span style=\"background-color: #FFFEFE\">more</span> <span style=\"background-color: #FFFEFE\">interaction</span> <span style=\"background-color: #E2E2FF\">design</span> <span style=\"background-color: #E2E2FF\">and</span> <span style=\"background-color: #FFFEFE\">information</span> <span style=\"background-color: #FFFEFE\">architecture</span> <span style=\"background-color: #FFFEFE\">roles</span> <span style=\"background-color: #FFFEFE\">are</span> <span style=\"background-color: #FFFEFE\">ideal</span> <span style=\"background-color: #FFFEFE\">.</span> <span style=\"background-color: #FFFEFE\">the</span> <span style=\"background-color: #FFFEFE\">work</span> <span style=\"background-color: #FFFEFE\">will</span> <span style=\"background-color: #FFFEFE\">be</span> <span style=\"background-color: #FFFEFE\">predominantly</span> <span style=\"background-color: #FFFEFE\">web</span> <span style=\"background-color: #FFFEFE\">focussed</span> <span style=\"background-color: #FFFEFE\">,</span> <span style=\"background-color: #FFFEFE\">but</span> <span style=\"background-color: #FFFEFE\">with</span> <span style=\"background-color: #FFFEFE\">the</span> <span style=\"background-color: #FFFEFE\">projects</span> <span style=\"background-color: #FFFEFE\">changing</span> <span style=\"background-color: #FFFEFE\">so</span> <span style=\"background-color: #FFFEFE\">frequently</span> <span style=\"background-color: #FFFEFE\">there</span> <span style=\"background-color: #FFFEFE\">will</span> <span style=\"background-color: #FFFEFE\">be</span> <span style=\"background-color: #FFFEFE\">mobile</span> <span style=\"background-color: #FFFEFE\">and</span> <span style=\"background-color: #FFFEFE\">tablet</span> <span style=\"background-color: #FFFEFE\">projects</span> <span style=\"background-color: #FFFEFE\">as</span> <span style=\"background-color: #FFFEFE\">well</span> <span style=\"background-color: #FFFEFE\">,</span> <span style=\"background-color: #FFFEFE\">so</span> <span style=\"background-color: #FFFEFE\">cross</span> <span style=\"background-color: #FFFEFE\">platform</span> <span style=\"background-color: #FFFEFE\">ux</span> <span style=\"background-color: #FFFEFE\">experience</span> <span style=\"background-color: #FFFEFE\">is</span> <span style=\"background-color: #FFFEFE\">a</span> <span style=\"background-color: #FFFEFE\">bonus</span> <span style=\"background-color: #FFFEFE\">.</span> <span style=\"background-color: #FFFEFE\">successful</span> <span style=\"background-color: #FFFEFE\">ux</span> <span style=\"background-color: #FFFEFE\">ia</span> <span style=\"background-color: #FFFEFE\">/</span> <span style=\"background-color: #FFFEFE\">UNK</span> <span style=\"background-color: #FFFEFE\">will</span> <span style=\"background-color: #FFFEFE\">be</span> <span style=\"background-color: #FFFEFE\">comfortable</span> <span style=\"background-color: #FFFEFE\">in</span> <span style=\"background-color: #FFFEFE\">english</span> <span style=\"background-color: #FFFEFE\">,</span> <span style=\"background-color: #FFFEFE\">any</span> <span style=\"background-color: #FFFEFE\">other</span> <span style=\"background-color: #FFFEFE\">language</span> <span style=\"background-color: #FFFEFE\">is</span> <span style=\"background-color: #FFFEFE\">an</span> <span style=\"background-color: #FFFEFE\">added</span> <span style=\"background-color: #FFFEFE\">bonus</span> <span style=\"background-color: #FFFEFE\">.</span> <span style=\"background-color: #FFFEFE\">please</span> <span style=\"background-color: #FFFEFE\">extend</span> <span style=\"background-color: #FFFEFE\">me</span> <span style=\"background-color: #FFFEFE\">your</span> <span style=\"background-color: #FFFEFE\">latest</span> <span style=\"background-color: #FFFEFE\">cv</span> <span style=\"background-color: #FFFEFE\">and</span> <span style=\"background-color: #FFFEFE\">portfolio</span> <span style=\"background-color: #FFFEFE\">if</span> <span style=\"background-color: #FFFEFE\">you</span> <span style=\"background-color: #FFFEFE\">'</span> <span style=\"background-color: #FFFEFE\">re</span> <span style=\"background-color: #FFFEFE\">interested</span> <span style=\"background-color: #FFFEFE\">and</span> <span style=\"background-color: #FFFEFE\">i</span> <span style=\"background-color: #FFFEFE\">can</span> <span style=\"background-color: #FFFEFE\">pass</span> <span style=\"background-color: #FFFEFE\">on</span> <span style=\"background-color: #FFFEFE\">more</span> <span style=\"background-color: #FFFEFE\">information</span> <span style=\"background-color: #FFFEFE\">.</span> <span style=\"background-color: #FFFEFE\">notes</span> <span style=\"background-color: #FFFEFE\">:</span> <span style=\"background-color: #FFFEFE\">user</span> <span style=\"background-color: #FFFEFE\">experience</span> <span style=\"background-color: #FFFEFE\">ia</span> <span style=\"background-color: #FFFEFE\">,</span> <span style=\"background-color: #FFFEFE\">interaction</span> <span style=\"background-color: #FFFEFE\">design</span> <span style=\"background-color: #FFFEFE\">,</span> <span style=\"background-color: #FFFEFE\">web</span> <span style=\"background-color: #FFFEFE\">ux</span> <span style=\"background-color: #FFFEFE\">,</span> <span style=\"background-color: #FFFEFE\">paris</span> <span style=\"background-color: #FFFEFE\">interaction</span> <span style=\"background-color: #FFFEFE\">designer</span> <span style=\"background-color: #FFFEFE\">,</span> <span style=\"background-color: #FFFEFE\">paris</span> <span style=\"background-color: #FFFEFE\">ux</span> <span style=\"background-color: #FFFEFE\">,</span> <span style=\"background-color: #FFFEFE\">ia</span> <span style=\"background-color: #FFFEFE\">france</span> <span style=\"background-color: #FFFEFE\">,</span> <span style=\"background-color: #FFFEFE\">ux</span> <span style=\"background-color: #FFFEFE\">paris</span> <span style=\"background-color: #FFFEFE\">,</span> <span style=\"background-color: #FFFEFE\">web</span> <span style=\"background-color: #FFFEFE\">ia</span> <span style=\"background-color: #FFFEFE\">/</span> <span style=\"background-color: #FFFEFE\">web</span> <span style=\"background-color: #FFFEFE\">UNK</span> <span style=\"background-color: #FFFEFE\">paris</span> <span style=\"background-color: #FFFEFE\">,</span> <span style=\"background-color: #FFFEFE\">cross</span> <span style=\"background-color: #FFFEFE\">platform</span> <span style=\"background-color: #FFFEFE\">paris</span> <span style=\"background-color: #FFFEFE\">ux</span> <span style=\"background-color: #FFFEFE\">,</span> <span style=\"background-color: #FFFEFE\">ux</span> <span style=\"background-color: #FFFEFE\">,</span> <span style=\"background-color: #FFFEFE\">user</span> <span style=\"background-color: #FFFEFE\">experience</span> <span style=\"background-color: #FFFEFE\">,</span> <span style=\"background-color: #FFFEFE\">interaction</span> <span style=\"background-color: #FFFEFE\">design</span> <span style=\"background-color: #FFFEFE\">,</span> <span style=\"background-color: #FFFEFE\">france</span> <span style=\"background-color: #FFFEFE\">,</span> <span style=\"background-color: #FFFEFE\">paris</span> <span style=\"background-color: #FFFEFE\">,</span> <span style=\"background-color: #FFFEFE\">user</span> <span style=\"background-color: #FFFEFE\">experience</span> <span style=\"background-color: #FFFEFE\">paris</span> <span style=\"background-color: #FFFEFE\">,</span> <span style=\"background-color: #FFFEFE\">mobile</span> <span style=\"background-color: #FFFEFE\">ux</span> <span style=\"background-color: #FFFEFE\">,</span> <span style=\"background-color: #FFFEFE\">ux</span> <span style=\"background-color: #FFFEFE\">jobs</span> <span style=\"background-color: #FFFEFE\">from</span> <span style=\"background-color: #FFFEFE\">ic</span> <span style=\"background-color: #FFFEFE\">creative</span> <span style=\"background-color: #FFFEFE\">providing</span> <span style=\"background-color: #FFFEFE\">a</span> <span style=\"background-color: #FFFEFE\">quality</span> <span style=\"background-color: #FFFEFE\">selection</span> <span style=\"background-color: #FFFEFE\">of</span> <span style=\"background-color: #FFFEFE\">the</span> <span style=\"background-color: #FFFEFE\">market</span> <span style=\"background-color: #FFFEFE\">'</span> <span style=\"background-color: #FFFEFE\">s</span> <span style=\"background-color: #FFFEFE\">best</span> <span style=\"background-color: #FFFEFE\">contract</span> <span style=\"background-color: #FFFEFE\">user</span> <span style=\"background-color: #FFFEFE\">experience</span> <span style=\"background-color: #FFFEFE\">jobs</span> <span style=\"background-color: #FFFEFE\">(</span> <span style=\"background-color: #FFFEFE\">ux</span> <span style=\"background-color: #FFFEFE\">/</span> <span style=\"background-color: #FFFEFE\">usability</span> <span style=\"background-color: #FFFEFE\">/</span> <span style=\"background-color: #FFFEFE\">ia</span> <span style=\"background-color: #FFFEFE\">/</span> <span style=\"background-color: #FFFEFE\">interaction</span> <span style=\"background-color: #FFFEFE\">design</span> <span style=\"background-color: #FFFEFE\">/</span> <span style=\"background-color: #FFFEFE\">visual</span> <span style=\"background-color: #FFFEFE\">ui</span> <span style=\"background-color: #FFFEFE\">design</span> <span style=\"background-color: #FFFEFE\">).</span> <span style=\"background-color: #FFFEFE\">this</span> <span style=\"background-color: #FFFEFE\">job</span> <span style=\"background-color: #FFFEFE\">was</span> <span style=\"background-color: #FFFEFE\">originally</span> <span style=\"background-color: #FFFEFE\">posted</span> <span style=\"background-color: #FFFEFE\">as</span> <span style=\"background-color: #FFFEFE\">www</span> <span style=\"background-color: #FFFEFE\">.</span> <span style=\"background-color: #FFFEFE\">totaljobs</span> <span style=\"background-color: #FFFEFE\">.</span> <span style=\"background-color: #FFFEFE\">com</span> <span style=\"background-color: #FFFEFE\">/</span> <span style=\"background-color: #FFFEFE\">jobseeking</span> <span style=\"background-color: #FFFEFE\">/</span> <span style=\"background-color: #FFFEFE\">UNK</span> <span style=\"background-color: #FFFEFE\">****</span></p>"
      ]
     },
     "metadata": {},
     "output_type": "display_data"
    }
   ],
   "source": [
    "i = np.random.randint(len(data))\n",
    "print(\"Index:\", i)\n",
    "print(\"Salary (gbp):\", np.expm1(model.predict(make_batch(data.iloc[i: i+1]))[0, 0]))\n",
    "\n",
    "tokens_and_weights = explain(model, data.loc[i], \"Title\")\n",
    "draw_html([(tok, weight * 5) for tok, weight in tokens_and_weights], font_style='font-size:20px;');\n",
    "\n",
    "tokens_and_weights = explain(model, data.loc[i], \"FullDescription\")\n",
    "draw_html([(tok, weight * 10) for tok, weight in tokens_and_weights]);"
   ]
  },
  {
   "cell_type": "markdown",
   "metadata": {},
   "source": [
    "__Terrible start-up idea #1962:__ make a tool that automaticaly rephrases your job description (or CV) to meet salary expectations :)"
   ]
  },
  {
   "cell_type": "code",
   "execution_count": 100,
   "metadata": {},
   "outputs": [],
   "source": [
    "## Curriculum Vitae 简称 CV 来自法语"
   ]
  },
  {
   "cell_type": "code",
   "execution_count": null,
   "metadata": {},
   "outputs": [],
   "source": []
  }
 ],
 "metadata": {
  "kernelspec": {
   "display_name": "Python 3",
   "language": "python",
   "name": "python3"
  },
  "language_info": {
   "codemirror_mode": {
    "name": "ipython",
    "version": 3
   },
   "file_extension": ".py",
   "mimetype": "text/x-python",
   "name": "python",
   "nbconvert_exporter": "python",
   "pygments_lexer": "ipython3",
   "version": "3.6.7"
  }
 },
 "nbformat": 4,
 "nbformat_minor": 2
}
